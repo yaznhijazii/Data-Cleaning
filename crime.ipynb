{
 "cells": [
  {
   "cell_type": "code",
   "execution_count": 1,
   "metadata": {
    "id": "kJmUfumcked2"
   },
   "outputs": [],
   "source": [
    "import pandas as pd\n"
   ]
  },
  {
   "cell_type": "code",
   "execution_count": 2,
   "metadata": {
    "colab": {
     "base_uri": "https://localhost:8080/",
     "height": 739
    },
    "id": "oDmmpZfpk8ZK",
    "outputId": "e6e18ddb-ac72-4da6-ad4e-1f3d60caaab7"
   },
   "outputs": [
    {
     "data": {
      "text/html": [
       "<div>\n",
       "<style scoped>\n",
       "    .dataframe tbody tr th:only-of-type {\n",
       "        vertical-align: middle;\n",
       "    }\n",
       "\n",
       "    .dataframe tbody tr th {\n",
       "        vertical-align: top;\n",
       "    }\n",
       "\n",
       "    .dataframe thead th {\n",
       "        text-align: right;\n",
       "    }\n",
       "</style>\n",
       "<table border=\"1\" class=\"dataframe\">\n",
       "  <thead>\n",
       "    <tr style=\"text-align: right;\">\n",
       "      <th></th>\n",
       "      <th>CrimeDate</th>\n",
       "      <th>CrimeTime</th>\n",
       "      <th>CrimeCode</th>\n",
       "      <th>Location</th>\n",
       "      <th>Description</th>\n",
       "      <th>Inside/Outside</th>\n",
       "      <th>Weapon</th>\n",
       "      <th>Post</th>\n",
       "      <th>District</th>\n",
       "      <th>Neighborhood</th>\n",
       "      <th>Location 1</th>\n",
       "      <th>Total Incidents</th>\n",
       "    </tr>\n",
       "  </thead>\n",
       "  <tbody>\n",
       "    <tr>\n",
       "      <th>0</th>\n",
       "      <td>11/12/2016</td>\n",
       "      <td>02:35:00</td>\n",
       "      <td>3B</td>\n",
       "      <td>300 SAINT PAUL PL</td>\n",
       "      <td>ROBBERY - STREET</td>\n",
       "      <td>O</td>\n",
       "      <td>NaN</td>\n",
       "      <td>111.0</td>\n",
       "      <td>CENTRAL</td>\n",
       "      <td>Downtown</td>\n",
       "      <td>(39.2924100000, -76.6140800000)</td>\n",
       "      <td>1</td>\n",
       "    </tr>\n",
       "    <tr>\n",
       "      <th>1</th>\n",
       "      <td>11/12/2016</td>\n",
       "      <td>02:56:00</td>\n",
       "      <td>3CF</td>\n",
       "      <td>800 S BROADWAY</td>\n",
       "      <td>ROBBERY - COMMERCIAL</td>\n",
       "      <td>I</td>\n",
       "      <td>FIREARM</td>\n",
       "      <td>213.0</td>\n",
       "      <td>SOUTHEASTERN</td>\n",
       "      <td>Fells Point</td>\n",
       "      <td>(39.2824200000, -76.5928800000)</td>\n",
       "      <td>1</td>\n",
       "    </tr>\n",
       "    <tr>\n",
       "      <th>2</th>\n",
       "      <td>11/12/2016</td>\n",
       "      <td>03:00:00</td>\n",
       "      <td>6D</td>\n",
       "      <td>1500 PENTWOOD RD</td>\n",
       "      <td>LARCENY FROM AUTO</td>\n",
       "      <td>O</td>\n",
       "      <td>NaN</td>\n",
       "      <td>413.0</td>\n",
       "      <td>NORTHEASTERN</td>\n",
       "      <td>Stonewood-Pentwood-Winston</td>\n",
       "      <td>(39.3480500000, -76.5883400000)</td>\n",
       "      <td>1</td>\n",
       "    </tr>\n",
       "    <tr>\n",
       "      <th>3</th>\n",
       "      <td>11/12/2016</td>\n",
       "      <td>03:00:00</td>\n",
       "      <td>6D</td>\n",
       "      <td>6600 MILTON LN</td>\n",
       "      <td>LARCENY FROM AUTO</td>\n",
       "      <td>O</td>\n",
       "      <td>NaN</td>\n",
       "      <td>424.0</td>\n",
       "      <td>NORTHEASTERN</td>\n",
       "      <td>Westfield</td>\n",
       "      <td>(39.3626300000, -76.5516100000)</td>\n",
       "      <td>1</td>\n",
       "    </tr>\n",
       "    <tr>\n",
       "      <th>4</th>\n",
       "      <td>11/12/2016</td>\n",
       "      <td>03:00:00</td>\n",
       "      <td>6E</td>\n",
       "      <td>300 W BALTIMORE ST</td>\n",
       "      <td>LARCENY</td>\n",
       "      <td>O</td>\n",
       "      <td>NaN</td>\n",
       "      <td>111.0</td>\n",
       "      <td>CENTRAL</td>\n",
       "      <td>Downtown</td>\n",
       "      <td>(39.2893800000, -76.6197100000)</td>\n",
       "      <td>1</td>\n",
       "    </tr>\n",
       "    <tr>\n",
       "      <th>...</th>\n",
       "      <td>...</td>\n",
       "      <td>...</td>\n",
       "      <td>...</td>\n",
       "      <td>...</td>\n",
       "      <td>...</td>\n",
       "      <td>...</td>\n",
       "      <td>...</td>\n",
       "      <td>...</td>\n",
       "      <td>...</td>\n",
       "      <td>...</td>\n",
       "      <td>...</td>\n",
       "      <td>...</td>\n",
       "    </tr>\n",
       "    <tr>\n",
       "      <th>285802</th>\n",
       "      <td>01/01/2011</td>\n",
       "      <td>22:15:00</td>\n",
       "      <td>4D</td>\n",
       "      <td>6800 MCCLEAN BD</td>\n",
       "      <td>AGG. ASSAULT</td>\n",
       "      <td>I</td>\n",
       "      <td>HANDS</td>\n",
       "      <td>423.0</td>\n",
       "      <td>NORTHEASTERN</td>\n",
       "      <td>Hamilton Hills</td>\n",
       "      <td>(39.3704700000, -76.5670500000)</td>\n",
       "      <td>1</td>\n",
       "    </tr>\n",
       "    <tr>\n",
       "      <th>285803</th>\n",
       "      <td>01/01/2011</td>\n",
       "      <td>22:30:00</td>\n",
       "      <td>6J</td>\n",
       "      <td>3000 ODONNELL ST</td>\n",
       "      <td>LARCENY</td>\n",
       "      <td>I</td>\n",
       "      <td>NaN</td>\n",
       "      <td>232.0</td>\n",
       "      <td>SOUTHEASTERN</td>\n",
       "      <td>Canton</td>\n",
       "      <td>(39.2804600000, -76.5727300000)</td>\n",
       "      <td>1</td>\n",
       "    </tr>\n",
       "    <tr>\n",
       "      <th>285804</th>\n",
       "      <td>01/01/2011</td>\n",
       "      <td>23:00:00</td>\n",
       "      <td>7A</td>\n",
       "      <td>2500 ARUNAH AV</td>\n",
       "      <td>AUTO THEFT</td>\n",
       "      <td>O</td>\n",
       "      <td>NaN</td>\n",
       "      <td>721.0</td>\n",
       "      <td>WESTERN</td>\n",
       "      <td>Evergreen Lawn</td>\n",
       "      <td>(39.2954200000, -76.6592800000)</td>\n",
       "      <td>1</td>\n",
       "    </tr>\n",
       "    <tr>\n",
       "      <th>285805</th>\n",
       "      <td>01/01/2011</td>\n",
       "      <td>23:25:00</td>\n",
       "      <td>4E</td>\n",
       "      <td>100 N MONROE ST</td>\n",
       "      <td>COMMON ASSAULT</td>\n",
       "      <td>I</td>\n",
       "      <td>HANDS</td>\n",
       "      <td>714.0</td>\n",
       "      <td>WESTERN</td>\n",
       "      <td>Penrose/Fayette Street Outreach</td>\n",
       "      <td>(39.2899900000, -76.6470700000)</td>\n",
       "      <td>1</td>\n",
       "    </tr>\n",
       "    <tr>\n",
       "      <th>285806</th>\n",
       "      <td>01/01/2011</td>\n",
       "      <td>23:38:00</td>\n",
       "      <td>4D</td>\n",
       "      <td>800 N FREMONT AV</td>\n",
       "      <td>AGG. ASSAULT</td>\n",
       "      <td>I</td>\n",
       "      <td>HANDS</td>\n",
       "      <td>123.0</td>\n",
       "      <td>WESTERN</td>\n",
       "      <td>Upton</td>\n",
       "      <td>(39.2981200000, -76.6339100000)</td>\n",
       "      <td>1</td>\n",
       "    </tr>\n",
       "  </tbody>\n",
       "</table>\n",
       "<p>285807 rows × 12 columns</p>\n",
       "</div>"
      ],
      "text/plain": [
       "         CrimeDate CrimeTime CrimeCode            Location  \\\n",
       "0       11/12/2016  02:35:00        3B   300 SAINT PAUL PL   \n",
       "1       11/12/2016  02:56:00       3CF      800 S BROADWAY   \n",
       "2       11/12/2016  03:00:00        6D    1500 PENTWOOD RD   \n",
       "3       11/12/2016  03:00:00        6D      6600 MILTON LN   \n",
       "4       11/12/2016  03:00:00        6E  300 W BALTIMORE ST   \n",
       "...            ...       ...       ...                 ...   \n",
       "285802  01/01/2011  22:15:00        4D     6800 MCCLEAN BD   \n",
       "285803  01/01/2011  22:30:00        6J    3000 ODONNELL ST   \n",
       "285804  01/01/2011  23:00:00        7A      2500 ARUNAH AV   \n",
       "285805  01/01/2011  23:25:00        4E     100 N MONROE ST   \n",
       "285806  01/01/2011  23:38:00        4D    800 N FREMONT AV   \n",
       "\n",
       "                 Description Inside/Outside   Weapon   Post      District  \\\n",
       "0           ROBBERY - STREET              O      NaN  111.0       CENTRAL   \n",
       "1       ROBBERY - COMMERCIAL              I  FIREARM  213.0  SOUTHEASTERN   \n",
       "2          LARCENY FROM AUTO              O      NaN  413.0  NORTHEASTERN   \n",
       "3          LARCENY FROM AUTO              O      NaN  424.0  NORTHEASTERN   \n",
       "4                    LARCENY              O      NaN  111.0       CENTRAL   \n",
       "...                      ...            ...      ...    ...           ...   \n",
       "285802          AGG. ASSAULT              I    HANDS  423.0  NORTHEASTERN   \n",
       "285803               LARCENY              I      NaN  232.0  SOUTHEASTERN   \n",
       "285804            AUTO THEFT              O      NaN  721.0       WESTERN   \n",
       "285805        COMMON ASSAULT              I    HANDS  714.0       WESTERN   \n",
       "285806          AGG. ASSAULT              I    HANDS  123.0       WESTERN   \n",
       "\n",
       "                           Neighborhood                       Location 1  \\\n",
       "0                              Downtown  (39.2924100000, -76.6140800000)   \n",
       "1                           Fells Point  (39.2824200000, -76.5928800000)   \n",
       "2            Stonewood-Pentwood-Winston  (39.3480500000, -76.5883400000)   \n",
       "3                             Westfield  (39.3626300000, -76.5516100000)   \n",
       "4                              Downtown  (39.2893800000, -76.6197100000)   \n",
       "...                                 ...                              ...   \n",
       "285802                   Hamilton Hills  (39.3704700000, -76.5670500000)   \n",
       "285803                           Canton  (39.2804600000, -76.5727300000)   \n",
       "285804                   Evergreen Lawn  (39.2954200000, -76.6592800000)   \n",
       "285805  Penrose/Fayette Street Outreach  (39.2899900000, -76.6470700000)   \n",
       "285806                            Upton  (39.2981200000, -76.6339100000)   \n",
       "\n",
       "        Total Incidents  \n",
       "0                     1  \n",
       "1                     1  \n",
       "2                     1  \n",
       "3                     1  \n",
       "4                     1  \n",
       "...                 ...  \n",
       "285802                1  \n",
       "285803                1  \n",
       "285804                1  \n",
       "285805                1  \n",
       "285806                1  \n",
       "\n",
       "[285807 rows x 12 columns]"
      ]
     },
     "execution_count": 2,
     "metadata": {},
     "output_type": "execute_result"
    }
   ],
   "source": [
    "df = pd.read_csv(\"Crime_Rate_Data_Baltimore.csv\")\n",
    "df"
   ]
  },
  {
   "cell_type": "code",
   "execution_count": 3,
   "metadata": {
    "colab": {
     "base_uri": "https://localhost:8080/"
    },
    "id": "ucZh13eElAqe",
    "outputId": "55650fb5-e038-4c65-b1e0-ad1f17142292"
   },
   "outputs": [
    {
     "data": {
      "text/plain": [
       "(285807, 12)"
      ]
     },
     "execution_count": 3,
     "metadata": {},
     "output_type": "execute_result"
    }
   ],
   "source": [
    "df.shape"
   ]
  },
  {
   "cell_type": "code",
   "execution_count": 4,
   "metadata": {
    "colab": {
     "base_uri": "https://localhost:8080/"
    },
    "id": "lU7vQajQlYTm",
    "outputId": "e277b286-9a60-4d68-f469-49f76a5f7b9d"
   },
   "outputs": [
    {
     "data": {
      "text/plain": [
       "array(['11/12/2016', '11/11/2016', '11/10/2016', ..., '01/03/2011',\n",
       "       '01/02/2011', '01/01/2011'], dtype=object)"
      ]
     },
     "execution_count": 4,
     "metadata": {},
     "output_type": "execute_result"
    }
   ],
   "source": [
    "df[\"CrimeDate\"].unique()\n"
   ]
  },
  {
   "cell_type": "code",
   "execution_count": 5,
   "metadata": {
    "colab": {
     "base_uri": "https://localhost:8080/",
     "height": 739
    },
    "id": "uLB4RwLDsDjn",
    "outputId": "00a8e9c6-e8c3-444c-99eb-1dd7887d1ad3"
   },
   "outputs": [
    {
     "data": {
      "text/html": [
       "<div>\n",
       "<style scoped>\n",
       "    .dataframe tbody tr th:only-of-type {\n",
       "        vertical-align: middle;\n",
       "    }\n",
       "\n",
       "    .dataframe tbody tr th {\n",
       "        vertical-align: top;\n",
       "    }\n",
       "\n",
       "    .dataframe thead th {\n",
       "        text-align: right;\n",
       "    }\n",
       "</style>\n",
       "<table border=\"1\" class=\"dataframe\">\n",
       "  <thead>\n",
       "    <tr style=\"text-align: right;\">\n",
       "      <th></th>\n",
       "      <th>CrimeDate</th>\n",
       "      <th>CrimeTime</th>\n",
       "      <th>CrimeCode</th>\n",
       "      <th>Location</th>\n",
       "      <th>Description</th>\n",
       "      <th>Inside/Outside</th>\n",
       "      <th>Weapon</th>\n",
       "      <th>Post</th>\n",
       "      <th>District</th>\n",
       "      <th>Neighborhood</th>\n",
       "      <th>Location 1</th>\n",
       "      <th>Total Incidents</th>\n",
       "    </tr>\n",
       "  </thead>\n",
       "  <tbody>\n",
       "    <tr>\n",
       "      <th>0</th>\n",
       "      <td>2016-11-12</td>\n",
       "      <td>02:35:00</td>\n",
       "      <td>3B</td>\n",
       "      <td>300 SAINT PAUL PL</td>\n",
       "      <td>ROBBERY - STREET</td>\n",
       "      <td>O</td>\n",
       "      <td>NaN</td>\n",
       "      <td>111.0</td>\n",
       "      <td>CENTRAL</td>\n",
       "      <td>Downtown</td>\n",
       "      <td>(39.2924100000, -76.6140800000)</td>\n",
       "      <td>1</td>\n",
       "    </tr>\n",
       "    <tr>\n",
       "      <th>1</th>\n",
       "      <td>2016-11-12</td>\n",
       "      <td>02:56:00</td>\n",
       "      <td>3CF</td>\n",
       "      <td>800 S BROADWAY</td>\n",
       "      <td>ROBBERY - COMMERCIAL</td>\n",
       "      <td>I</td>\n",
       "      <td>FIREARM</td>\n",
       "      <td>213.0</td>\n",
       "      <td>SOUTHEASTERN</td>\n",
       "      <td>Fells Point</td>\n",
       "      <td>(39.2824200000, -76.5928800000)</td>\n",
       "      <td>1</td>\n",
       "    </tr>\n",
       "    <tr>\n",
       "      <th>2</th>\n",
       "      <td>2016-11-12</td>\n",
       "      <td>03:00:00</td>\n",
       "      <td>6D</td>\n",
       "      <td>1500 PENTWOOD RD</td>\n",
       "      <td>LARCENY FROM AUTO</td>\n",
       "      <td>O</td>\n",
       "      <td>NaN</td>\n",
       "      <td>413.0</td>\n",
       "      <td>NORTHEASTERN</td>\n",
       "      <td>Stonewood-Pentwood-Winston</td>\n",
       "      <td>(39.3480500000, -76.5883400000)</td>\n",
       "      <td>1</td>\n",
       "    </tr>\n",
       "    <tr>\n",
       "      <th>3</th>\n",
       "      <td>2016-11-12</td>\n",
       "      <td>03:00:00</td>\n",
       "      <td>6D</td>\n",
       "      <td>6600 MILTON LN</td>\n",
       "      <td>LARCENY FROM AUTO</td>\n",
       "      <td>O</td>\n",
       "      <td>NaN</td>\n",
       "      <td>424.0</td>\n",
       "      <td>NORTHEASTERN</td>\n",
       "      <td>Westfield</td>\n",
       "      <td>(39.3626300000, -76.5516100000)</td>\n",
       "      <td>1</td>\n",
       "    </tr>\n",
       "    <tr>\n",
       "      <th>4</th>\n",
       "      <td>2016-11-12</td>\n",
       "      <td>03:00:00</td>\n",
       "      <td>6E</td>\n",
       "      <td>300 W BALTIMORE ST</td>\n",
       "      <td>LARCENY</td>\n",
       "      <td>O</td>\n",
       "      <td>NaN</td>\n",
       "      <td>111.0</td>\n",
       "      <td>CENTRAL</td>\n",
       "      <td>Downtown</td>\n",
       "      <td>(39.2893800000, -76.6197100000)</td>\n",
       "      <td>1</td>\n",
       "    </tr>\n",
       "    <tr>\n",
       "      <th>...</th>\n",
       "      <td>...</td>\n",
       "      <td>...</td>\n",
       "      <td>...</td>\n",
       "      <td>...</td>\n",
       "      <td>...</td>\n",
       "      <td>...</td>\n",
       "      <td>...</td>\n",
       "      <td>...</td>\n",
       "      <td>...</td>\n",
       "      <td>...</td>\n",
       "      <td>...</td>\n",
       "      <td>...</td>\n",
       "    </tr>\n",
       "    <tr>\n",
       "      <th>285802</th>\n",
       "      <td>2011-01-01</td>\n",
       "      <td>22:15:00</td>\n",
       "      <td>4D</td>\n",
       "      <td>6800 MCCLEAN BD</td>\n",
       "      <td>AGG. ASSAULT</td>\n",
       "      <td>I</td>\n",
       "      <td>HANDS</td>\n",
       "      <td>423.0</td>\n",
       "      <td>NORTHEASTERN</td>\n",
       "      <td>Hamilton Hills</td>\n",
       "      <td>(39.3704700000, -76.5670500000)</td>\n",
       "      <td>1</td>\n",
       "    </tr>\n",
       "    <tr>\n",
       "      <th>285803</th>\n",
       "      <td>2011-01-01</td>\n",
       "      <td>22:30:00</td>\n",
       "      <td>6J</td>\n",
       "      <td>3000 ODONNELL ST</td>\n",
       "      <td>LARCENY</td>\n",
       "      <td>I</td>\n",
       "      <td>NaN</td>\n",
       "      <td>232.0</td>\n",
       "      <td>SOUTHEASTERN</td>\n",
       "      <td>Canton</td>\n",
       "      <td>(39.2804600000, -76.5727300000)</td>\n",
       "      <td>1</td>\n",
       "    </tr>\n",
       "    <tr>\n",
       "      <th>285804</th>\n",
       "      <td>2011-01-01</td>\n",
       "      <td>23:00:00</td>\n",
       "      <td>7A</td>\n",
       "      <td>2500 ARUNAH AV</td>\n",
       "      <td>AUTO THEFT</td>\n",
       "      <td>O</td>\n",
       "      <td>NaN</td>\n",
       "      <td>721.0</td>\n",
       "      <td>WESTERN</td>\n",
       "      <td>Evergreen Lawn</td>\n",
       "      <td>(39.2954200000, -76.6592800000)</td>\n",
       "      <td>1</td>\n",
       "    </tr>\n",
       "    <tr>\n",
       "      <th>285805</th>\n",
       "      <td>2011-01-01</td>\n",
       "      <td>23:25:00</td>\n",
       "      <td>4E</td>\n",
       "      <td>100 N MONROE ST</td>\n",
       "      <td>COMMON ASSAULT</td>\n",
       "      <td>I</td>\n",
       "      <td>HANDS</td>\n",
       "      <td>714.0</td>\n",
       "      <td>WESTERN</td>\n",
       "      <td>Penrose/Fayette Street Outreach</td>\n",
       "      <td>(39.2899900000, -76.6470700000)</td>\n",
       "      <td>1</td>\n",
       "    </tr>\n",
       "    <tr>\n",
       "      <th>285806</th>\n",
       "      <td>2011-01-01</td>\n",
       "      <td>23:38:00</td>\n",
       "      <td>4D</td>\n",
       "      <td>800 N FREMONT AV</td>\n",
       "      <td>AGG. ASSAULT</td>\n",
       "      <td>I</td>\n",
       "      <td>HANDS</td>\n",
       "      <td>123.0</td>\n",
       "      <td>WESTERN</td>\n",
       "      <td>Upton</td>\n",
       "      <td>(39.2981200000, -76.6339100000)</td>\n",
       "      <td>1</td>\n",
       "    </tr>\n",
       "  </tbody>\n",
       "</table>\n",
       "<p>285807 rows × 12 columns</p>\n",
       "</div>"
      ],
      "text/plain": [
       "        CrimeDate CrimeTime CrimeCode            Location  \\\n",
       "0      2016-11-12  02:35:00        3B   300 SAINT PAUL PL   \n",
       "1      2016-11-12  02:56:00       3CF      800 S BROADWAY   \n",
       "2      2016-11-12  03:00:00        6D    1500 PENTWOOD RD   \n",
       "3      2016-11-12  03:00:00        6D      6600 MILTON LN   \n",
       "4      2016-11-12  03:00:00        6E  300 W BALTIMORE ST   \n",
       "...           ...       ...       ...                 ...   \n",
       "285802 2011-01-01  22:15:00        4D     6800 MCCLEAN BD   \n",
       "285803 2011-01-01  22:30:00        6J    3000 ODONNELL ST   \n",
       "285804 2011-01-01  23:00:00        7A      2500 ARUNAH AV   \n",
       "285805 2011-01-01  23:25:00        4E     100 N MONROE ST   \n",
       "285806 2011-01-01  23:38:00        4D    800 N FREMONT AV   \n",
       "\n",
       "                 Description Inside/Outside   Weapon   Post      District  \\\n",
       "0           ROBBERY - STREET              O      NaN  111.0       CENTRAL   \n",
       "1       ROBBERY - COMMERCIAL              I  FIREARM  213.0  SOUTHEASTERN   \n",
       "2          LARCENY FROM AUTO              O      NaN  413.0  NORTHEASTERN   \n",
       "3          LARCENY FROM AUTO              O      NaN  424.0  NORTHEASTERN   \n",
       "4                    LARCENY              O      NaN  111.0       CENTRAL   \n",
       "...                      ...            ...      ...    ...           ...   \n",
       "285802          AGG. ASSAULT              I    HANDS  423.0  NORTHEASTERN   \n",
       "285803               LARCENY              I      NaN  232.0  SOUTHEASTERN   \n",
       "285804            AUTO THEFT              O      NaN  721.0       WESTERN   \n",
       "285805        COMMON ASSAULT              I    HANDS  714.0       WESTERN   \n",
       "285806          AGG. ASSAULT              I    HANDS  123.0       WESTERN   \n",
       "\n",
       "                           Neighborhood                       Location 1  \\\n",
       "0                              Downtown  (39.2924100000, -76.6140800000)   \n",
       "1                           Fells Point  (39.2824200000, -76.5928800000)   \n",
       "2            Stonewood-Pentwood-Winston  (39.3480500000, -76.5883400000)   \n",
       "3                             Westfield  (39.3626300000, -76.5516100000)   \n",
       "4                              Downtown  (39.2893800000, -76.6197100000)   \n",
       "...                                 ...                              ...   \n",
       "285802                   Hamilton Hills  (39.3704700000, -76.5670500000)   \n",
       "285803                           Canton  (39.2804600000, -76.5727300000)   \n",
       "285804                   Evergreen Lawn  (39.2954200000, -76.6592800000)   \n",
       "285805  Penrose/Fayette Street Outreach  (39.2899900000, -76.6470700000)   \n",
       "285806                            Upton  (39.2981200000, -76.6339100000)   \n",
       "\n",
       "        Total Incidents  \n",
       "0                     1  \n",
       "1                     1  \n",
       "2                     1  \n",
       "3                     1  \n",
       "4                     1  \n",
       "...                 ...  \n",
       "285802                1  \n",
       "285803                1  \n",
       "285804                1  \n",
       "285805                1  \n",
       "285806                1  \n",
       "\n",
       "[285807 rows x 12 columns]"
      ]
     },
     "execution_count": 5,
     "metadata": {},
     "output_type": "execute_result"
    }
   ],
   "source": [
    "df['CrimeDate'] = pd.to_datetime(df['CrimeDate'], errors='coerce')\n",
    "df"
   ]
  },
  {
   "cell_type": "code",
   "execution_count": 6,
   "metadata": {
    "colab": {
     "base_uri": "https://localhost:8080/"
    },
    "id": "y4r86ggEvRM-",
    "outputId": "dcf3b797-d020-488c-bcd5-aafef7194752"
   },
   "outputs": [
    {
     "name": "stdout",
     "output_type": "stream",
     "text": [
      "<class 'pandas.core.frame.DataFrame'>\n",
      "RangeIndex: 285807 entries, 0 to 285806\n",
      "Data columns (total 12 columns):\n",
      " #   Column           Non-Null Count   Dtype         \n",
      "---  ------           --------------   -----         \n",
      " 0   CrimeDate        285807 non-null  datetime64[ns]\n",
      " 1   CrimeTime        285807 non-null  object        \n",
      " 2   CrimeCode        285807 non-null  object        \n",
      " 3   Location         284184 non-null  object        \n",
      " 4   Description      285807 non-null  object        \n",
      " 5   Inside/Outside   281611 non-null  object        \n",
      " 6   Weapon           97396 non-null   object        \n",
      " 7   Post             285616 non-null  float64       \n",
      " 8   District         285749 non-null  object        \n",
      " 9   Neighborhood     284106 non-null  object        \n",
      " 10  Location 1       284188 non-null  object        \n",
      " 11  Total Incidents  285807 non-null  int64         \n",
      "dtypes: datetime64[ns](1), float64(1), int64(1), object(9)\n",
      "memory usage: 26.2+ MB\n"
     ]
    }
   ],
   "source": [
    "df.info()"
   ]
  },
  {
   "cell_type": "code",
   "execution_count": 7,
   "metadata": {
    "id": "mu2ECsWtzbmO"
   },
   "outputs": [],
   "source": [
    "\n",
    "# Function to clean and standardize the 'CrimeTime' column\n",
    "def clean_crime_time(time_str):\n",
    "    try:\n",
    "        # Try to convert using the 'HH:MM:SS AM/PM' format\n",
    "        return pd.to_datetime(time_str, format='%I:%M:%S %p').strftime('%I:%M:%S %p')\n",
    "    except ValueError:\n",
    "        if len(time_str) == 4:\n",
    "            # Convert 'hhmm' format to 'HH:MM:SS AM/PM' format\n",
    "            # Handle '2302' and '2400' formats\n",
    "            time_str = time_str.zfill(4)  # Pad with zeros\n",
    "            hours, minutes = time_str[:2], time_str[2:]\n",
    "            # Convert to 'HH:MM:SS AM/PM'\n",
    "            return f\"{hours}:{minutes}:00 AM\"\n",
    "        else:\n",
    "            return None  # Return None for values that couldn't be converted\n",
    "\n",
    "# Apply the cleaning function to the 'CrimeTime' column\n",
    "df['CleanedCrimeTime'] = df['CrimeTime'].apply(clean_crime_time)\n",
    "\n"
   ]
  },
  {
   "cell_type": "code",
   "execution_count": 8,
   "metadata": {
    "colab": {
     "base_uri": "https://localhost:8080/"
    },
    "id": "rOZc9d_y9igu",
    "outputId": "7a03d54b-6ad9-4f51-dc69-5f8ed3d621eb"
   },
   "outputs": [
    {
     "name": "stdout",
     "output_type": "stream",
     "text": [
      "<class 'pandas.core.frame.DataFrame'>\n",
      "RangeIndex: 285807 entries, 0 to 285806\n",
      "Data columns (total 12 columns):\n",
      " #   Column            Non-Null Count   Dtype         \n",
      "---  ------            --------------   -----         \n",
      " 0   CrimeCode         285807 non-null  object        \n",
      " 1   Location          284184 non-null  object        \n",
      " 2   Description       285807 non-null  object        \n",
      " 3   Inside/Outside    281611 non-null  object        \n",
      " 4   Weapon            97396 non-null   object        \n",
      " 5   Post              285616 non-null  float64       \n",
      " 6   District          285749 non-null  object        \n",
      " 7   Neighborhood      284106 non-null  object        \n",
      " 8   Location 1        284188 non-null  object        \n",
      " 9   Total Incidents   285807 non-null  int64         \n",
      " 10  CleanedCrimeTime  4212 non-null    object        \n",
      " 11  DateTime          285806 non-null  datetime64[ns]\n",
      "dtypes: datetime64[ns](1), float64(1), int64(1), object(9)\n",
      "memory usage: 26.2+ MB\n"
     ]
    }
   ],
   "source": [
    "# Merge 'CrimeDate' and 'CrimeTime' columns into a single datetime column\n",
    "df['DateTime'] = pd.to_datetime(df['CrimeDate'].dt.strftime('%Y-%m-%d') + ' ' + df['CrimeTime'], errors='coerce')\n",
    "\n",
    "# Drop the original 'CrimeDate' and 'CrimeTime' columns\n",
    "df.drop(['CrimeDate', 'CrimeTime'], axis=1, inplace=True)\n",
    "\n",
    "# Display DataFrame information to check the changes\n",
    "df.info()\n"
   ]
  },
  {
   "cell_type": "code",
   "execution_count": 9,
   "metadata": {
    "colab": {
     "base_uri": "https://localhost:8080/",
     "height": 417
    },
    "id": "-lmBIFts-R9G",
    "outputId": "a6d88db3-3755-4b37-c69d-5ee65f6ae18c"
   },
   "outputs": [
    {
     "data": {
      "text/html": [
       "<div>\n",
       "<style scoped>\n",
       "    .dataframe tbody tr th:only-of-type {\n",
       "        vertical-align: middle;\n",
       "    }\n",
       "\n",
       "    .dataframe tbody tr th {\n",
       "        vertical-align: top;\n",
       "    }\n",
       "\n",
       "    .dataframe thead th {\n",
       "        text-align: right;\n",
       "    }\n",
       "</style>\n",
       "<table border=\"1\" class=\"dataframe\">\n",
       "  <thead>\n",
       "    <tr style=\"text-align: right;\">\n",
       "      <th></th>\n",
       "      <th>CrimeCode</th>\n",
       "      <th>Location</th>\n",
       "      <th>Description</th>\n",
       "      <th>Inside/Outside</th>\n",
       "      <th>Weapon</th>\n",
       "      <th>Post</th>\n",
       "      <th>District</th>\n",
       "      <th>Neighborhood</th>\n",
       "      <th>Location 1</th>\n",
       "      <th>Total Incidents</th>\n",
       "      <th>CleanedCrimeTime</th>\n",
       "      <th>DateTime</th>\n",
       "    </tr>\n",
       "  </thead>\n",
       "  <tbody>\n",
       "    <tr>\n",
       "      <th>0</th>\n",
       "      <td>3B</td>\n",
       "      <td>300 SAINT PAUL PL</td>\n",
       "      <td>ROBBERY - STREET</td>\n",
       "      <td>O</td>\n",
       "      <td>NaN</td>\n",
       "      <td>111.0</td>\n",
       "      <td>CENTRAL</td>\n",
       "      <td>Downtown</td>\n",
       "      <td>(39.2924100000, -76.6140800000)</td>\n",
       "      <td>1</td>\n",
       "      <td>None</td>\n",
       "      <td>2016-11-12 02:35:00</td>\n",
       "    </tr>\n",
       "    <tr>\n",
       "      <th>1</th>\n",
       "      <td>3CF</td>\n",
       "      <td>800 S BROADWAY</td>\n",
       "      <td>ROBBERY - COMMERCIAL</td>\n",
       "      <td>I</td>\n",
       "      <td>FIREARM</td>\n",
       "      <td>213.0</td>\n",
       "      <td>SOUTHEASTERN</td>\n",
       "      <td>Fells Point</td>\n",
       "      <td>(39.2824200000, -76.5928800000)</td>\n",
       "      <td>1</td>\n",
       "      <td>None</td>\n",
       "      <td>2016-11-12 02:56:00</td>\n",
       "    </tr>\n",
       "    <tr>\n",
       "      <th>2</th>\n",
       "      <td>6D</td>\n",
       "      <td>1500 PENTWOOD RD</td>\n",
       "      <td>LARCENY FROM AUTO</td>\n",
       "      <td>O</td>\n",
       "      <td>NaN</td>\n",
       "      <td>413.0</td>\n",
       "      <td>NORTHEASTERN</td>\n",
       "      <td>Stonewood-Pentwood-Winston</td>\n",
       "      <td>(39.3480500000, -76.5883400000)</td>\n",
       "      <td>1</td>\n",
       "      <td>None</td>\n",
       "      <td>2016-11-12 03:00:00</td>\n",
       "    </tr>\n",
       "    <tr>\n",
       "      <th>3</th>\n",
       "      <td>6D</td>\n",
       "      <td>6600 MILTON LN</td>\n",
       "      <td>LARCENY FROM AUTO</td>\n",
       "      <td>O</td>\n",
       "      <td>NaN</td>\n",
       "      <td>424.0</td>\n",
       "      <td>NORTHEASTERN</td>\n",
       "      <td>Westfield</td>\n",
       "      <td>(39.3626300000, -76.5516100000)</td>\n",
       "      <td>1</td>\n",
       "      <td>None</td>\n",
       "      <td>2016-11-12 03:00:00</td>\n",
       "    </tr>\n",
       "    <tr>\n",
       "      <th>4</th>\n",
       "      <td>6E</td>\n",
       "      <td>300 W BALTIMORE ST</td>\n",
       "      <td>LARCENY</td>\n",
       "      <td>O</td>\n",
       "      <td>NaN</td>\n",
       "      <td>111.0</td>\n",
       "      <td>CENTRAL</td>\n",
       "      <td>Downtown</td>\n",
       "      <td>(39.2893800000, -76.6197100000)</td>\n",
       "      <td>1</td>\n",
       "      <td>None</td>\n",
       "      <td>2016-11-12 03:00:00</td>\n",
       "    </tr>\n",
       "  </tbody>\n",
       "</table>\n",
       "</div>"
      ],
      "text/plain": [
       "  CrimeCode            Location           Description Inside/Outside   Weapon  \\\n",
       "0        3B   300 SAINT PAUL PL      ROBBERY - STREET              O      NaN   \n",
       "1       3CF      800 S BROADWAY  ROBBERY - COMMERCIAL              I  FIREARM   \n",
       "2        6D    1500 PENTWOOD RD     LARCENY FROM AUTO              O      NaN   \n",
       "3        6D      6600 MILTON LN     LARCENY FROM AUTO              O      NaN   \n",
       "4        6E  300 W BALTIMORE ST               LARCENY              O      NaN   \n",
       "\n",
       "    Post      District                Neighborhood  \\\n",
       "0  111.0       CENTRAL                    Downtown   \n",
       "1  213.0  SOUTHEASTERN                 Fells Point   \n",
       "2  413.0  NORTHEASTERN  Stonewood-Pentwood-Winston   \n",
       "3  424.0  NORTHEASTERN                   Westfield   \n",
       "4  111.0       CENTRAL                    Downtown   \n",
       "\n",
       "                        Location 1  Total Incidents CleanedCrimeTime  \\\n",
       "0  (39.2924100000, -76.6140800000)                1             None   \n",
       "1  (39.2824200000, -76.5928800000)                1             None   \n",
       "2  (39.3480500000, -76.5883400000)                1             None   \n",
       "3  (39.3626300000, -76.5516100000)                1             None   \n",
       "4  (39.2893800000, -76.6197100000)                1             None   \n",
       "\n",
       "             DateTime  \n",
       "0 2016-11-12 02:35:00  \n",
       "1 2016-11-12 02:56:00  \n",
       "2 2016-11-12 03:00:00  \n",
       "3 2016-11-12 03:00:00  \n",
       "4 2016-11-12 03:00:00  "
      ]
     },
     "execution_count": 9,
     "metadata": {},
     "output_type": "execute_result"
    }
   ],
   "source": [
    "df.head()"
   ]
  },
  {
   "cell_type": "code",
   "execution_count": 10,
   "metadata": {
    "id": "rc9GcviR-igl"
   },
   "outputs": [],
   "source": [
    "df.drop('CleanedCrimeTime', axis=1, inplace=True)\n"
   ]
  },
  {
   "cell_type": "code",
   "execution_count": 11,
   "metadata": {
    "id": "M1Nc95Ds-lQR"
   },
   "outputs": [],
   "source": [
    "df.dropna(subset=['Location'], inplace=True)"
   ]
  },
  {
   "cell_type": "code",
   "execution_count": 12,
   "metadata": {
    "colab": {
     "base_uri": "https://localhost:8080/"
    },
    "id": "txIEL41qJk6N",
    "outputId": "884573f7-f607-4e17-f801-495e26ffd369"
   },
   "outputs": [
    {
     "data": {
      "text/plain": [
       "array(['3B', '3CF', '6D', '6E', '4E', '3CO', '3BJ', '5A', '4B', '7A',\n",
       "       '3AF', '6G', '4F', '4C', '6B', '6C', '4D', '3D', '5B', '6J', '3AK',\n",
       "       '3AO', '3AJK', '5D', '6F', '3AJF', '5C', '4A', '9S', '1F', '3JF',\n",
       "       '3K', '3CK', '3P', '3JO', '3LF', '5E', '3AJO', '6A', '3NF', '6L',\n",
       "       '3EK', '2A', '5F', '3H', '3GO', '3NO', '7C', '3NK', '2B', '8AV',\n",
       "       '8AO', '8H', '1K', '8EO', '3JK', '3GF', '3EF', '3LO', '8GV', '3M',\n",
       "       '8J', '8BV', '1O', '8BO', '6H', '8I', '3GK', '3F', '7B', '8FO',\n",
       "       '3EO', '8CV', '8EV', '8GO', '3LK', '8CO', '6K', '8FV', '3N', '8DO'],\n",
       "      dtype=object)"
      ]
     },
     "execution_count": 12,
     "metadata": {},
     "output_type": "execute_result"
    }
   ],
   "source": [
    "df[\"CrimeCode\"].unique()"
   ]
  },
  {
   "cell_type": "code",
   "execution_count": 13,
   "metadata": {
    "colab": {
     "base_uri": "https://localhost:8080/"
    },
    "id": "WyfMAaFMJ6_j",
    "outputId": "e6e116a2-9d40-4432-a88b-744d3d178ae4"
   },
   "outputs": [
    {
     "data": {
      "text/plain": [
       "array(['O', 'I', 'Outside', 'Inside', nan], dtype=object)"
      ]
     },
     "execution_count": 13,
     "metadata": {},
     "output_type": "execute_result"
    }
   ],
   "source": [
    "df[\"Inside/Outside\"].unique()"
   ]
  },
  {
   "cell_type": "code",
   "execution_count": 14,
   "metadata": {
    "colab": {
     "base_uri": "https://localhost:8080/"
    },
    "id": "tDHid29NMGLI",
    "outputId": "ee909ade-459e-4384-bb11-9e0d2814fa0a"
   },
   "outputs": [
    {
     "name": "stdout",
     "output_type": "stream",
     "text": [
      "['O' 'I']\n"
     ]
    }
   ],
   "source": [
    "import numpy as np\n",
    "\n",
    "# Replace variations with 'O' or 'I'\n",
    "df[\"Inside/Outside\"] = df[\"Inside/Outside\"].replace(['O', 'Outside'], 'O') \\\n",
    "                                               .replace(['I', 'Inside'], 'I')\n",
    "\n",
    "most_frequent_value = df['Inside/Outside'].mode()[0]\n",
    "\n",
    "# Replace NaN values with the most frequent value\n",
    "df['Inside/Outside'].fillna(most_frequent_value, inplace=True)\n",
    "\n",
    "# Confirm the unique values after replacing NaN\n",
    "print(df['Inside/Outside'].unique())"
   ]
  },
  {
   "cell_type": "code",
   "execution_count": 15,
   "metadata": {
    "colab": {
     "base_uri": "https://localhost:8080/"
    },
    "id": "Rbqc2DxwOU5m",
    "outputId": "c7c3d5a1-636d-4ca5-cc27-a4f7b7c9d7d0"
   },
   "outputs": [
    {
     "data": {
      "text/plain": [
       "array([1.11e+02, 2.13e+02, 4.13e+02, 4.24e+02, 4.23e+02, 9.33e+02,\n",
       "       2.23e+02, 4.43e+02, 7.43e+02, 8.14e+02, 8.13e+02, 3.12e+02,\n",
       "       2.32e+02, 4.44e+02, 9.31e+02, 3.11e+02, 7.14e+02, 8.43e+02,\n",
       "       7.33e+02, 9.13e+02, 3.23e+02, 5.11e+02, 4.25e+02, 3.33e+02,\n",
       "       8.33e+02, 1.32e+02, 1.31e+02, 5.33e+02, 1.23e+02, 5.12e+02,\n",
       "       6.22e+02, 9.35e+02, 4.15e+02, 4.14e+02, 5.32e+02, 4.26e+02,\n",
       "       1.21e+02, 9.32e+02, 5.14e+02, 1.12e+02, 4.32e+02, 6.32e+02,\n",
       "       9.22e+02, 2.24e+02, 7.42e+02, 1.33e+02, 6.13e+02, 6.41e+02,\n",
       "       5.42e+02, 9.23e+02, 8.31e+02, 1.13e+02, 2.41e+02, 9.11e+02,\n",
       "       7.13e+02, 8.41e+02, 8.42e+02, 1.41e+02, 3.43e+02, 6.23e+02,\n",
       "       2.22e+02, 3.31e+02, 6.43e+02, 9.34e+02, 3.21e+02, 2.42e+02,\n",
       "       7.12e+02, 5.13e+02, 4.45e+02, 8.21e+02, 6.14e+02, 9.43e+02,\n",
       "       5.22e+02, 9.42e+02, 2.33e+02, 5.43e+02, 5.21e+02, 9.41e+02,\n",
       "       7.11e+02, 6.21e+02, 6.12e+02, 4.11e+02, 4.12e+02, 1.42e+02,\n",
       "       7.22e+02, 2.21e+02, 5.23e+02, 2.43e+02, 3.42e+02, 8.23e+02,\n",
       "       3.32e+02, 2.31e+02, 9.21e+02, 4.41e+02, 2.12e+02, 8.11e+02,\n",
       "       7.31e+02, 4.34e+02, 4.21e+02, 8.44e+02, 4.31e+02, 6.31e+02,\n",
       "       2.11e+02, 7.23e+02, 8.22e+02, 7.32e+02, 6.42e+02, 8.32e+02,\n",
       "       3.13e+02, 1.43e+02, 5.24e+02, 3.41e+02, 8.12e+02, 6.33e+02,\n",
       "       9.12e+02, 4.33e+02, 5.41e+02, 4.22e+02, 7.21e+02, 4.42e+02,\n",
       "       7.41e+02, 5.31e+02, 1.22e+02, 1.00e-01, 0.00e+00, 6.11e+02,\n",
       "       3.22e+02, 2.00e-01, 3.00e-01, 5.00e-01, 4.00e-01, 1.00e+00,\n",
       "       1.20e+00, 1.10e+00, 1.90e+00, 8.00e-01, 2.10e+00, 6.25e+02,\n",
       "       6.00e-01, 7.00e-01, 2.40e+00,      nan, 3.34e+02, 1.44e+02,\n",
       "       5.36e+02, 8.24e+02, 5.34e+02, 4.35e+02, 8.26e+02, 3.15e+02,\n",
       "       1.34e+02])"
      ]
     },
     "execution_count": 15,
     "metadata": {},
     "output_type": "execute_result"
    }
   ],
   "source": [
    "df[\"Post\"].unique()\n"
   ]
  },
  {
   "cell_type": "code",
   "execution_count": 16,
   "metadata": {
    "colab": {
     "base_uri": "https://localhost:8080/"
    },
    "id": "I5ZZ3mWAOoX7",
    "outputId": "c94e9061-2110-43f4-8a26-9ba26b14e265"
   },
   "outputs": [
    {
     "name": "stdout",
     "output_type": "stream",
     "text": [
      "       CrimeCode            Location           Description Inside/Outside  \\\n",
      "0             3B   300 SAINT PAUL PL      ROBBERY - STREET              O   \n",
      "1            3CF      800 S BROADWAY  ROBBERY - COMMERCIAL              I   \n",
      "2             6D    1500 PENTWOOD RD     LARCENY FROM AUTO              O   \n",
      "3             6D      6600 MILTON LN     LARCENY FROM AUTO              O   \n",
      "4             6E  300 W BALTIMORE ST               LARCENY              O   \n",
      "...          ...                 ...                   ...            ...   \n",
      "285802        4D     6800 MCCLEAN BD          AGG. ASSAULT              I   \n",
      "285803        6J    3000 ODONNELL ST               LARCENY              I   \n",
      "285804        7A      2500 ARUNAH AV            AUTO THEFT              O   \n",
      "285805        4E     100 N MONROE ST        COMMON ASSAULT              I   \n",
      "285806        4D    800 N FREMONT AV          AGG. ASSAULT              I   \n",
      "\n",
      "         Weapon   Post      District                     Neighborhood  \\\n",
      "0           NaN  111.0       CENTRAL                         Downtown   \n",
      "1       FIREARM  213.0  SOUTHEASTERN                      Fells Point   \n",
      "2           NaN  413.0  NORTHEASTERN       Stonewood-Pentwood-Winston   \n",
      "3           NaN  424.0  NORTHEASTERN                        Westfield   \n",
      "4           NaN  111.0       CENTRAL                         Downtown   \n",
      "...         ...    ...           ...                              ...   \n",
      "285802    HANDS  423.0  NORTHEASTERN                   Hamilton Hills   \n",
      "285803      NaN  232.0  SOUTHEASTERN                           Canton   \n",
      "285804      NaN  721.0       WESTERN                   Evergreen Lawn   \n",
      "285805    HANDS  714.0       WESTERN  Penrose/Fayette Street Outreach   \n",
      "285806    HANDS  123.0       WESTERN                            Upton   \n",
      "\n",
      "                             Location 1  Total Incidents            DateTime  \n",
      "0       (39.2924100000, -76.6140800000)                1 2016-11-12 02:35:00  \n",
      "1       (39.2824200000, -76.5928800000)                1 2016-11-12 02:56:00  \n",
      "2       (39.3480500000, -76.5883400000)                1 2016-11-12 03:00:00  \n",
      "3       (39.3626300000, -76.5516100000)                1 2016-11-12 03:00:00  \n",
      "4       (39.2893800000, -76.6197100000)                1 2016-11-12 03:00:00  \n",
      "...                                 ...              ...                 ...  \n",
      "285802  (39.3704700000, -76.5670500000)                1 2011-01-01 22:15:00  \n",
      "285803  (39.2804600000, -76.5727300000)                1 2011-01-01 22:30:00  \n",
      "285804  (39.2954200000, -76.6592800000)                1 2011-01-01 23:00:00  \n",
      "285805  (39.2899900000, -76.6470700000)                1 2011-01-01 23:25:00  \n",
      "285806  (39.2981200000, -76.6339100000)                1 2011-01-01 23:38:00  \n",
      "\n",
      "[284166 rows x 11 columns]\n"
     ]
    }
   ],
   "source": [
    "\n",
    "# Drop rows with null values in the \"Post\" column\n",
    "df.dropna(subset=['Post'], inplace=True)\n",
    "\n",
    "# Confirm the DataFrame after dropping null values\n",
    "print(df)\n"
   ]
  },
  {
   "cell_type": "code",
   "execution_count": 17,
   "metadata": {
    "colab": {
     "base_uri": "https://localhost:8080/"
    },
    "id": "nBbVVfFYOqOF",
    "outputId": "08211bbd-73ee-45af-cb41-cd4861e4dcc8"
   },
   "outputs": [
    {
     "name": "stdout",
     "output_type": "stream",
     "text": [
      "CrimeCode               0\n",
      "Location                0\n",
      "Description             0\n",
      "Inside/Outside          0\n",
      "Weapon             187218\n",
      "Post                    0\n",
      "District                0\n",
      "Neighborhood           74\n",
      "Location 1              0\n",
      "Total Incidents         0\n",
      "DateTime                1\n",
      "dtype: int64\n"
     ]
    }
   ],
   "source": [
    "# Check for missing values and sum them by column\n",
    "null_values = df.isnull().sum()\n",
    "\n",
    "# Display the null values\n",
    "print(null_values)"
   ]
  },
  {
   "cell_type": "code",
   "execution_count": 18,
   "metadata": {
    "colab": {
     "base_uri": "https://localhost:8080/"
    },
    "id": "Z_dMluXnOxyp",
    "outputId": "c4ff4c38-2db7-49fc-a6f1-f92903f6db2d"
   },
   "outputs": [
    {
     "data": {
      "text/plain": [
       "array(['Downtown', 'Fells Point', 'Stonewood-Pentwood-Winston',\n",
       "       'Westfield', 'Hamilton Hills', 'Union Square',\n",
       "       'Baltimore Highlands', 'Frankford', 'Sandtown-Winchester',\n",
       "       'Franklintown Road', 'Rosemont', 'Penn-Fallsway', 'Canton',\n",
       "       'Hollins Market', 'Mid-Town Belvedere',\n",
       "       'Penrose/Fayette Street Outreach', 'Irvington', 'Penn North',\n",
       "       'Brooklyn', 'Milton-Montford', 'New Northwood', 'Remington',\n",
       "       'Glenham-Belhar', 'Orangeville', 'Yale Heights', 'Bolton Hill',\n",
       "       'Druid Heights', 'Sabina-Mattfeldt', 'Upton', 'Charles Village',\n",
       "       'Howard Park', 'New Southwest/Mount Clare', 'Loch Raven',\n",
       "       'Idlewood', 'Parklane', 'Waltherson', 'Mount Vernon',\n",
       "       'Heritage Crossing', 'Washington Village/Pigtown', 'Old Goucher',\n",
       "       'Inner Harbor', 'Belair-Edison', 'Cross Country', 'Cherry Hill',\n",
       "       'Barclay', 'Glen', 'Ellwood Park/Monument', 'Reservoir Hill',\n",
       "       'Langston Hughes', 'Windsor Hills', 'Pen Lucy', 'Lakeland',\n",
       "       'Original Northwood', 'Morrell Park', 'Downtown West',\n",
       "       'Pulaski Industrial Area', 'Curtis Bay', 'Harlem Park', 'Millhill',\n",
       "       'Carroll-South Hilton', 'Oliver', 'Grove Park',\n",
       "       'North Harford Road', 'Patterson Park Neighborhood', 'Oldtown',\n",
       "       'Levindale', 'Broadway East', 'East Arlington', 'Carrollton Ridge',\n",
       "       'Dunbar-Broadway', 'Kresson', 'Poppleton', 'Madison-Eastend',\n",
       "       'Abell', 'Cedmont', 'Gwynns Falls/Leakin Park',\n",
       "       'Central Park Heights', 'Allendale', 'Riverside', 'Cedarcroft',\n",
       "       'Federal Hill', 'Highlandtown', 'Waverly', 'Kernewood',\n",
       "       'Brewers Hill', 'Franklin Square', 'Central Forest Park',\n",
       "       'Johnston Square', 'Park Circle',\n",
       "       'Coldstream Homestead Montebello', 'Hillen', 'Patterson Place',\n",
       "       'Mid-Govans', 'Greenspring', 'Graceland Park',\n",
       "       'East Baltimore Midway', 'West Hills', 'Berea', 'Westport',\n",
       "       'Cedonia', 'Better Waverly', 'Ramblewood', 'Ashburton', 'Woodmere',\n",
       "       'Carroll - Camden Industrial Area', 'Washington Hill',\n",
       "       'Charles North', 'Walbrook', 'Biddle Street', 'Mondawmin',\n",
       "       'Winchester', 'McElderry Park', 'Cameron Village',\n",
       "       'Panway/Braddish Avenue', 'Ten Hills', 'Woodberry', 'Four By Four',\n",
       "       'Morgan State University', 'CARE', 'Edmondson Village',\n",
       "       'Clifton Park', 'Reisterstown Station', 'Little Italy',\n",
       "       'Otterbein', 'Bridgeview/Greenlawn', 'Middle East', 'Cylburn',\n",
       "       'Coldspring', 'Coppin Heights/Ash-Co-East', 'Parkview/Woodbrook',\n",
       "       'Concerned Citizens Of Forest Park', 'Orangeville Industrial Area',\n",
       "       'Violetville', 'Edgewood', 'Saint Paul', 'Upper Fells Point',\n",
       "       'West Arlington', 'Fallstaff', 'Cheswolde', 'Gay Street',\n",
       "       'Jonestown', 'South Clifton Park', 'Locust Point Industrial Area',\n",
       "       'Northwest Community Action', 'Seton Hill',\n",
       "       'Ednor Gardens-Lakeside', 'Winston-Govans', 'Broening Manor',\n",
       "       'Gwynns Falls', 'Mount Holly', 'Arlington', 'Woodbourne Heights',\n",
       "       'Hanlon-Longwood', 'Fairfield Area', 'Beechfield', 'Madison Park',\n",
       "       'Orchard Ridge', 'Harwood', 'Hoes Heights', 'Arcadia',\n",
       "       'Forest Park', 'Guilford', 'Franklintown', 'Towanda-Grantley',\n",
       "       'Homeland', 'Kenilworth Park', 'Keswick', 'Evergreen Lawn',\n",
       "       'Hampden', 'South Baltimore', 'Callaway-Garrison',\n",
       "       'Pimlico Good Neighbors', 'Dolfield', 'Roland Park',\n",
       "       'Rognel Heights', 'Saint Agnes', \"O'Donnell Heights\",\n",
       "       \"Butcher's Hill\", 'Mosher', 'University Of Maryland', 'Easterwood',\n",
       "       'Midtown-Edmondson', 'West Forest Park', 'Greektown', 'Bayview',\n",
       "       'Stadium Area', 'Patterson Park', 'Radnor-Winston',\n",
       "       'Armistead Gardens', 'Garwyn Oaks', 'Tuscany-Canterbury',\n",
       "       'Lower Edmondson Village', 'Sharp-Leadenhall',\n",
       "       'Seton Business Park', 'Locust Point', 'Rosemont East', 'Rosebank',\n",
       "       'Herring Run Park', 'Middle Branch/Reedbird Parks', 'Westgate',\n",
       "       'Boyd-Booth', 'Mount Washington', 'Evesham Park', 'Medford',\n",
       "       'Hunting Ridge', 'North Roland Park/Poplar Hill', 'Saint Josephs',\n",
       "       'Hopkins Bayview', 'Shipley Hill', 'Glen Oaks',\n",
       "       'Canton Industrial Area', 'Parkside', 'Perring Loch', 'Evergreen',\n",
       "       'Liberty Square', 'Lucille Park', 'Rosemont Homeowners/Tenants',\n",
       "       'Pleasant View Gardens', 'Perkins Homes', 'Medfield', 'Wyman Park',\n",
       "       'Mount Winans', 'Greenmount West', 'Dickeyville', 'Oaklee',\n",
       "       'Belvedere', 'Lake Walker', 'Loyola/Notre Dame',\n",
       "       'Burleith-Leighton', 'Spring Garden Industrial Area', 'Lauraville',\n",
       "       'Overlea', 'Barre Circle', \"Ridgely's Delight\", 'Beverly Hills',\n",
       "       'Lake Evesham', 'Wakefield', 'The Orchards', 'Tremont', 'Fairmont',\n",
       "       'Darley Park', 'Woodbourne-McCabe', 'Lower Herring Run Park',\n",
       "       'Dorchester', 'Curtis Bay Industrial Area', 'Belair-Parkside',\n",
       "       'Wyndhurst', 'Bellona-Gittings', 'Oakenshawe',\n",
       "       'Forest Park Golf Course', 'Druid Hill Park', 'Chinquapin Park',\n",
       "       'Eastwood', 'Purnell', 'Uplands', 'York-Homeland', 'Saint Helena',\n",
       "       'Wrenlane', 'Wilhelm Park', 'Jones Falls Area', 'Richnor Springs',\n",
       "       'Villages Of Homeland', 'Mayfield', 'Carroll Park', 'Cross Keys',\n",
       "       'Montebello', 'Moravia-Walther', 'Greenmount Cemetery',\n",
       "       'Johns Hopkins Homewood', 'Wilson Park', 'Hawkins Point',\n",
       "       'EASTERN', 'Holabird Industrial Park', nan, 'Blythewood',\n",
       "       'Port Covington', 'Morgan Park', 'Taylor Heights', 'NORTHEASTERN',\n",
       "       'Mt Pleasant Park', 'Dundalk Marine Terminal'], dtype=object)"
      ]
     },
     "execution_count": 18,
     "metadata": {},
     "output_type": "execute_result"
    }
   ],
   "source": [
    "df[\"Neighborhood\"].unique()\n"
   ]
  },
  {
   "cell_type": "code",
   "execution_count": 19,
   "metadata": {
    "colab": {
     "base_uri": "https://localhost:8080/"
    },
    "id": "uACLkcvvO846",
    "outputId": "cdfab1e3-e97d-4ba4-8b9b-096c523ee354"
   },
   "outputs": [
    {
     "name": "stdout",
     "output_type": "stream",
     "text": [
      "       CrimeCode            Location           Description Inside/Outside  \\\n",
      "0             3B   300 SAINT PAUL PL      ROBBERY - STREET              O   \n",
      "1            3CF      800 S BROADWAY  ROBBERY - COMMERCIAL              I   \n",
      "2             6D    1500 PENTWOOD RD     LARCENY FROM AUTO              O   \n",
      "3             6D      6600 MILTON LN     LARCENY FROM AUTO              O   \n",
      "4             6E  300 W BALTIMORE ST               LARCENY              O   \n",
      "...          ...                 ...                   ...            ...   \n",
      "285802        4D     6800 MCCLEAN BD          AGG. ASSAULT              I   \n",
      "285803        6J    3000 ODONNELL ST               LARCENY              I   \n",
      "285804        7A      2500 ARUNAH AV            AUTO THEFT              O   \n",
      "285805        4E     100 N MONROE ST        COMMON ASSAULT              I   \n",
      "285806        4D    800 N FREMONT AV          AGG. ASSAULT              I   \n",
      "\n",
      "         Weapon   Post      District                     Neighborhood  \\\n",
      "0           NaN  111.0       CENTRAL                         Downtown   \n",
      "1       FIREARM  213.0  SOUTHEASTERN                      Fells Point   \n",
      "2           NaN  413.0  NORTHEASTERN       Stonewood-Pentwood-Winston   \n",
      "3           NaN  424.0  NORTHEASTERN                        Westfield   \n",
      "4           NaN  111.0       CENTRAL                         Downtown   \n",
      "...         ...    ...           ...                              ...   \n",
      "285802    HANDS  423.0  NORTHEASTERN                   Hamilton Hills   \n",
      "285803      NaN  232.0  SOUTHEASTERN                           Canton   \n",
      "285804      NaN  721.0       WESTERN                   Evergreen Lawn   \n",
      "285805    HANDS  714.0       WESTERN  Penrose/Fayette Street Outreach   \n",
      "285806    HANDS  123.0       WESTERN                            Upton   \n",
      "\n",
      "                             Location 1  Total Incidents            DateTime  \n",
      "0       (39.2924100000, -76.6140800000)                1 2016-11-12 02:35:00  \n",
      "1       (39.2824200000, -76.5928800000)                1 2016-11-12 02:56:00  \n",
      "2       (39.3480500000, -76.5883400000)                1 2016-11-12 03:00:00  \n",
      "3       (39.3626300000, -76.5516100000)                1 2016-11-12 03:00:00  \n",
      "4       (39.2893800000, -76.6197100000)                1 2016-11-12 03:00:00  \n",
      "...                                 ...              ...                 ...  \n",
      "285802  (39.3704700000, -76.5670500000)                1 2011-01-01 22:15:00  \n",
      "285803  (39.2804600000, -76.5727300000)                1 2011-01-01 22:30:00  \n",
      "285804  (39.2954200000, -76.6592800000)                1 2011-01-01 23:00:00  \n",
      "285805  (39.2899900000, -76.6470700000)                1 2011-01-01 23:25:00  \n",
      "285806  (39.2981200000, -76.6339100000)                1 2011-01-01 23:38:00  \n",
      "\n",
      "[284092 rows x 11 columns]\n"
     ]
    }
   ],
   "source": [
    "\n",
    "# Drop rows with null values in the \"Post\" column\n",
    "df.dropna(subset=['Neighborhood'], inplace=True)\n",
    "\n",
    "# Confirm the DataFrame after dropping null values\n",
    "print(df)\n"
   ]
  },
  {
   "cell_type": "code",
   "execution_count": 20,
   "metadata": {
    "colab": {
     "base_uri": "https://localhost:8080/"
    },
    "id": "toAw00R2PNB6",
    "outputId": "b6abe19b-8d2c-40bd-e590-c1014574d20a"
   },
   "outputs": [
    {
     "name": "stdout",
     "output_type": "stream",
     "text": [
      "       CrimeCode            Location           Description Inside/Outside  \\\n",
      "0             3B   300 SAINT PAUL PL      ROBBERY - STREET              O   \n",
      "1            3CF      800 S BROADWAY  ROBBERY - COMMERCIAL              I   \n",
      "2             6D    1500 PENTWOOD RD     LARCENY FROM AUTO              O   \n",
      "3             6D      6600 MILTON LN     LARCENY FROM AUTO              O   \n",
      "4             6E  300 W BALTIMORE ST               LARCENY              O   \n",
      "...          ...                 ...                   ...            ...   \n",
      "285802        4D     6800 MCCLEAN BD          AGG. ASSAULT              I   \n",
      "285803        6J    3000 ODONNELL ST               LARCENY              I   \n",
      "285804        7A      2500 ARUNAH AV            AUTO THEFT              O   \n",
      "285805        4E     100 N MONROE ST        COMMON ASSAULT              I   \n",
      "285806        4D    800 N FREMONT AV          AGG. ASSAULT              I   \n",
      "\n",
      "         Weapon   Post      District                     Neighborhood  \\\n",
      "0           NaN  111.0       CENTRAL                         Downtown   \n",
      "1       FIREARM  213.0  SOUTHEASTERN                      Fells Point   \n",
      "2           NaN  413.0  NORTHEASTERN       Stonewood-Pentwood-Winston   \n",
      "3           NaN  424.0  NORTHEASTERN                        Westfield   \n",
      "4           NaN  111.0       CENTRAL                         Downtown   \n",
      "...         ...    ...           ...                              ...   \n",
      "285802    HANDS  423.0  NORTHEASTERN                   Hamilton Hills   \n",
      "285803      NaN  232.0  SOUTHEASTERN                           Canton   \n",
      "285804      NaN  721.0       WESTERN                   Evergreen Lawn   \n",
      "285805    HANDS  714.0       WESTERN  Penrose/Fayette Street Outreach   \n",
      "285806    HANDS  123.0       WESTERN                            Upton   \n",
      "\n",
      "                             Location 1  Total Incidents            DateTime  \n",
      "0       (39.2924100000, -76.6140800000)                1 2016-11-12 02:35:00  \n",
      "1       (39.2824200000, -76.5928800000)                1 2016-11-12 02:56:00  \n",
      "2       (39.3480500000, -76.5883400000)                1 2016-11-12 03:00:00  \n",
      "3       (39.3626300000, -76.5516100000)                1 2016-11-12 03:00:00  \n",
      "4       (39.2893800000, -76.6197100000)                1 2016-11-12 03:00:00  \n",
      "...                                 ...              ...                 ...  \n",
      "285802  (39.3704700000, -76.5670500000)                1 2011-01-01 22:15:00  \n",
      "285803  (39.2804600000, -76.5727300000)                1 2011-01-01 22:30:00  \n",
      "285804  (39.2954200000, -76.6592800000)                1 2011-01-01 23:00:00  \n",
      "285805  (39.2899900000, -76.6470700000)                1 2011-01-01 23:25:00  \n",
      "285806  (39.2981200000, -76.6339100000)                1 2011-01-01 23:38:00  \n",
      "\n",
      "[284091 rows x 11 columns]\n"
     ]
    }
   ],
   "source": [
    "# Assuming df is your DataFrame\n",
    "\n",
    "# Drop rows with null values in the \"Post\" column\n",
    "df.dropna(subset=['DateTime'], inplace=True)\n",
    "\n",
    "# Confirm the DataFrame after dropping null values\n",
    "print(df)\n"
   ]
  },
  {
   "cell_type": "code",
   "execution_count": 21,
   "metadata": {
    "colab": {
     "base_uri": "https://localhost:8080/"
    },
    "id": "rE9Zkz0FPMZn",
    "outputId": "5964e44c-40f0-47ff-cac6-223fbae631fa"
   },
   "outputs": [
    {
     "name": "stdout",
     "output_type": "stream",
     "text": [
      "CrimeCode               0\n",
      "Location                0\n",
      "Description             0\n",
      "Inside/Outside          0\n",
      "Weapon             187158\n",
      "Post                    0\n",
      "District                0\n",
      "Neighborhood            0\n",
      "Location 1              0\n",
      "Total Incidents         0\n",
      "DateTime                0\n",
      "dtype: int64\n"
     ]
    }
   ],
   "source": [
    "# Check for missing values and sum them by column\n",
    "null_values = df.isnull().sum()\n",
    "\n",
    "# Display the null values\n",
    "print(null_values)"
   ]
  },
  {
   "cell_type": "code",
   "execution_count": 22,
   "metadata": {
    "colab": {
     "base_uri": "https://localhost:8080/"
    },
    "id": "FyJXbRsyP0AL",
    "outputId": "359fe865-665c-477a-c9b2-ad6b353e7159"
   },
   "outputs": [
    {
     "name": "stdout",
     "output_type": "stream",
     "text": [
      "       CrimeCode            Location           Description Inside/Outside  \\\n",
      "0             3B   300 SAINT PAUL PL      ROBBERY - STREET              O   \n",
      "1            3CF      800 S BROADWAY  ROBBERY - COMMERCIAL              I   \n",
      "2             6D    1500 PENTWOOD RD     LARCENY FROM AUTO              O   \n",
      "3             6D      6600 MILTON LN     LARCENY FROM AUTO              O   \n",
      "4             6E  300 W BALTIMORE ST               LARCENY              O   \n",
      "...          ...                 ...                   ...            ...   \n",
      "285802        4D     6800 MCCLEAN BD          AGG. ASSAULT              I   \n",
      "285803        6J    3000 ODONNELL ST               LARCENY              I   \n",
      "285804        7A      2500 ARUNAH AV            AUTO THEFT              O   \n",
      "285805        4E     100 N MONROE ST        COMMON ASSAULT              I   \n",
      "285806        4D    800 N FREMONT AV          AGG. ASSAULT              I   \n",
      "\n",
      "         Weapon   Post      District                     Neighborhood  \\\n",
      "0           NaN  111.0       CENTRAL                         Downtown   \n",
      "1       FIREARM  213.0  SOUTHEASTERN                      Fells Point   \n",
      "2           NaN  413.0  NORTHEASTERN       Stonewood-Pentwood-Winston   \n",
      "3           NaN  424.0  NORTHEASTERN                        Westfield   \n",
      "4           NaN  111.0       CENTRAL                         Downtown   \n",
      "...         ...    ...           ...                              ...   \n",
      "285802    HANDS  423.0  NORTHEASTERN                   Hamilton Hills   \n",
      "285803      NaN  232.0  SOUTHEASTERN                           Canton   \n",
      "285804      NaN  721.0       WESTERN                   Evergreen Lawn   \n",
      "285805    HANDS  714.0       WESTERN  Penrose/Fayette Street Outreach   \n",
      "285806    HANDS  123.0       WESTERN                            Upton   \n",
      "\n",
      "        Total Incidents            DateTime  Latitude  Longitude  \n",
      "0                     1 2016-11-12 02:35:00  39.29241  -76.61408  \n",
      "1                     1 2016-11-12 02:56:00  39.28242  -76.59288  \n",
      "2                     1 2016-11-12 03:00:00  39.34805  -76.58834  \n",
      "3                     1 2016-11-12 03:00:00  39.36263  -76.55161  \n",
      "4                     1 2016-11-12 03:00:00  39.28938  -76.61971  \n",
      "...                 ...                 ...       ...        ...  \n",
      "285802                1 2011-01-01 22:15:00  39.37047  -76.56705  \n",
      "285803                1 2011-01-01 22:30:00  39.28046  -76.57273  \n",
      "285804                1 2011-01-01 23:00:00  39.29542  -76.65928  \n",
      "285805                1 2011-01-01 23:25:00  39.28999  -76.64707  \n",
      "285806                1 2011-01-01 23:38:00  39.29812  -76.63391  \n",
      "\n",
      "[284091 rows x 12 columns]\n"
     ]
    }
   ],
   "source": [
    "# Assuming df is your DataFrame\n",
    "\n",
    "# Split \"Location 1\" into separate latitude and longitude columns\n",
    "df[['Latitude', 'Longitude']] = df['Location 1'].str.extract(r'\\((.*?),\\s(.*?)\\)').astype(float)\n",
    "\n",
    "# Drop the original \"Location 1\" column\n",
    "df.drop(columns=['Location 1'], inplace=True)\n",
    "\n",
    "# Print the DataFrame to confirm the changes\n",
    "print(df)\n"
   ]
  },
  {
   "cell_type": "code",
   "execution_count": 23,
   "metadata": {
    "colab": {
     "base_uri": "https://localhost:8080/",
     "height": 808
    },
    "id": "cGnAee8TQA2J",
    "outputId": "f1e0f6d7-12b8-48a3-902b-bea47cbae84a"
   },
   "outputs": [
    {
     "data": {
      "text/html": [
       "<div>\n",
       "<style scoped>\n",
       "    .dataframe tbody tr th:only-of-type {\n",
       "        vertical-align: middle;\n",
       "    }\n",
       "\n",
       "    .dataframe tbody tr th {\n",
       "        vertical-align: top;\n",
       "    }\n",
       "\n",
       "    .dataframe thead th {\n",
       "        text-align: right;\n",
       "    }\n",
       "</style>\n",
       "<table border=\"1\" class=\"dataframe\">\n",
       "  <thead>\n",
       "    <tr style=\"text-align: right;\">\n",
       "      <th></th>\n",
       "      <th>CrimeCode</th>\n",
       "      <th>Location</th>\n",
       "      <th>Description</th>\n",
       "      <th>Inside/Outside</th>\n",
       "      <th>Weapon</th>\n",
       "      <th>Post</th>\n",
       "      <th>District</th>\n",
       "      <th>Neighborhood</th>\n",
       "      <th>Total Incidents</th>\n",
       "      <th>DateTime</th>\n",
       "      <th>Latitude</th>\n",
       "      <th>Longitude</th>\n",
       "    </tr>\n",
       "  </thead>\n",
       "  <tbody>\n",
       "    <tr>\n",
       "      <th>0</th>\n",
       "      <td>3B</td>\n",
       "      <td>300 SAINT PAUL PL</td>\n",
       "      <td>ROBBERY - STREET</td>\n",
       "      <td>O</td>\n",
       "      <td>NaN</td>\n",
       "      <td>111.0</td>\n",
       "      <td>CENTRAL</td>\n",
       "      <td>Downtown</td>\n",
       "      <td>1</td>\n",
       "      <td>2016-11-12 02:35:00</td>\n",
       "      <td>39.29241</td>\n",
       "      <td>-76.61408</td>\n",
       "    </tr>\n",
       "    <tr>\n",
       "      <th>1</th>\n",
       "      <td>3CF</td>\n",
       "      <td>800 S BROADWAY</td>\n",
       "      <td>ROBBERY - COMMERCIAL</td>\n",
       "      <td>I</td>\n",
       "      <td>FIREARM</td>\n",
       "      <td>213.0</td>\n",
       "      <td>SOUTHEASTERN</td>\n",
       "      <td>Fells Point</td>\n",
       "      <td>1</td>\n",
       "      <td>2016-11-12 02:56:00</td>\n",
       "      <td>39.28242</td>\n",
       "      <td>-76.59288</td>\n",
       "    </tr>\n",
       "    <tr>\n",
       "      <th>2</th>\n",
       "      <td>6D</td>\n",
       "      <td>1500 PENTWOOD RD</td>\n",
       "      <td>LARCENY FROM AUTO</td>\n",
       "      <td>O</td>\n",
       "      <td>NaN</td>\n",
       "      <td>413.0</td>\n",
       "      <td>NORTHEASTERN</td>\n",
       "      <td>Stonewood-Pentwood-Winston</td>\n",
       "      <td>1</td>\n",
       "      <td>2016-11-12 03:00:00</td>\n",
       "      <td>39.34805</td>\n",
       "      <td>-76.58834</td>\n",
       "    </tr>\n",
       "    <tr>\n",
       "      <th>3</th>\n",
       "      <td>6D</td>\n",
       "      <td>6600 MILTON LN</td>\n",
       "      <td>LARCENY FROM AUTO</td>\n",
       "      <td>O</td>\n",
       "      <td>NaN</td>\n",
       "      <td>424.0</td>\n",
       "      <td>NORTHEASTERN</td>\n",
       "      <td>Westfield</td>\n",
       "      <td>1</td>\n",
       "      <td>2016-11-12 03:00:00</td>\n",
       "      <td>39.36263</td>\n",
       "      <td>-76.55161</td>\n",
       "    </tr>\n",
       "    <tr>\n",
       "      <th>4</th>\n",
       "      <td>6E</td>\n",
       "      <td>300 W BALTIMORE ST</td>\n",
       "      <td>LARCENY</td>\n",
       "      <td>O</td>\n",
       "      <td>NaN</td>\n",
       "      <td>111.0</td>\n",
       "      <td>CENTRAL</td>\n",
       "      <td>Downtown</td>\n",
       "      <td>1</td>\n",
       "      <td>2016-11-12 03:00:00</td>\n",
       "      <td>39.28938</td>\n",
       "      <td>-76.61971</td>\n",
       "    </tr>\n",
       "    <tr>\n",
       "      <th>...</th>\n",
       "      <td>...</td>\n",
       "      <td>...</td>\n",
       "      <td>...</td>\n",
       "      <td>...</td>\n",
       "      <td>...</td>\n",
       "      <td>...</td>\n",
       "      <td>...</td>\n",
       "      <td>...</td>\n",
       "      <td>...</td>\n",
       "      <td>...</td>\n",
       "      <td>...</td>\n",
       "      <td>...</td>\n",
       "    </tr>\n",
       "    <tr>\n",
       "      <th>285802</th>\n",
       "      <td>4D</td>\n",
       "      <td>6800 MCCLEAN BD</td>\n",
       "      <td>AGG. ASSAULT</td>\n",
       "      <td>I</td>\n",
       "      <td>HANDS</td>\n",
       "      <td>423.0</td>\n",
       "      <td>NORTHEASTERN</td>\n",
       "      <td>Hamilton Hills</td>\n",
       "      <td>1</td>\n",
       "      <td>2011-01-01 22:15:00</td>\n",
       "      <td>39.37047</td>\n",
       "      <td>-76.56705</td>\n",
       "    </tr>\n",
       "    <tr>\n",
       "      <th>285803</th>\n",
       "      <td>6J</td>\n",
       "      <td>3000 ODONNELL ST</td>\n",
       "      <td>LARCENY</td>\n",
       "      <td>I</td>\n",
       "      <td>NaN</td>\n",
       "      <td>232.0</td>\n",
       "      <td>SOUTHEASTERN</td>\n",
       "      <td>Canton</td>\n",
       "      <td>1</td>\n",
       "      <td>2011-01-01 22:30:00</td>\n",
       "      <td>39.28046</td>\n",
       "      <td>-76.57273</td>\n",
       "    </tr>\n",
       "    <tr>\n",
       "      <th>285804</th>\n",
       "      <td>7A</td>\n",
       "      <td>2500 ARUNAH AV</td>\n",
       "      <td>AUTO THEFT</td>\n",
       "      <td>O</td>\n",
       "      <td>NaN</td>\n",
       "      <td>721.0</td>\n",
       "      <td>WESTERN</td>\n",
       "      <td>Evergreen Lawn</td>\n",
       "      <td>1</td>\n",
       "      <td>2011-01-01 23:00:00</td>\n",
       "      <td>39.29542</td>\n",
       "      <td>-76.65928</td>\n",
       "    </tr>\n",
       "    <tr>\n",
       "      <th>285805</th>\n",
       "      <td>4E</td>\n",
       "      <td>100 N MONROE ST</td>\n",
       "      <td>COMMON ASSAULT</td>\n",
       "      <td>I</td>\n",
       "      <td>HANDS</td>\n",
       "      <td>714.0</td>\n",
       "      <td>WESTERN</td>\n",
       "      <td>Penrose/Fayette Street Outreach</td>\n",
       "      <td>1</td>\n",
       "      <td>2011-01-01 23:25:00</td>\n",
       "      <td>39.28999</td>\n",
       "      <td>-76.64707</td>\n",
       "    </tr>\n",
       "    <tr>\n",
       "      <th>285806</th>\n",
       "      <td>4D</td>\n",
       "      <td>800 N FREMONT AV</td>\n",
       "      <td>AGG. ASSAULT</td>\n",
       "      <td>I</td>\n",
       "      <td>HANDS</td>\n",
       "      <td>123.0</td>\n",
       "      <td>WESTERN</td>\n",
       "      <td>Upton</td>\n",
       "      <td>1</td>\n",
       "      <td>2011-01-01 23:38:00</td>\n",
       "      <td>39.29812</td>\n",
       "      <td>-76.63391</td>\n",
       "    </tr>\n",
       "  </tbody>\n",
       "</table>\n",
       "<p>284091 rows × 12 columns</p>\n",
       "</div>"
      ],
      "text/plain": [
       "       CrimeCode            Location           Description Inside/Outside  \\\n",
       "0             3B   300 SAINT PAUL PL      ROBBERY - STREET              O   \n",
       "1            3CF      800 S BROADWAY  ROBBERY - COMMERCIAL              I   \n",
       "2             6D    1500 PENTWOOD RD     LARCENY FROM AUTO              O   \n",
       "3             6D      6600 MILTON LN     LARCENY FROM AUTO              O   \n",
       "4             6E  300 W BALTIMORE ST               LARCENY              O   \n",
       "...          ...                 ...                   ...            ...   \n",
       "285802        4D     6800 MCCLEAN BD          AGG. ASSAULT              I   \n",
       "285803        6J    3000 ODONNELL ST               LARCENY              I   \n",
       "285804        7A      2500 ARUNAH AV            AUTO THEFT              O   \n",
       "285805        4E     100 N MONROE ST        COMMON ASSAULT              I   \n",
       "285806        4D    800 N FREMONT AV          AGG. ASSAULT              I   \n",
       "\n",
       "         Weapon   Post      District                     Neighborhood  \\\n",
       "0           NaN  111.0       CENTRAL                         Downtown   \n",
       "1       FIREARM  213.0  SOUTHEASTERN                      Fells Point   \n",
       "2           NaN  413.0  NORTHEASTERN       Stonewood-Pentwood-Winston   \n",
       "3           NaN  424.0  NORTHEASTERN                        Westfield   \n",
       "4           NaN  111.0       CENTRAL                         Downtown   \n",
       "...         ...    ...           ...                              ...   \n",
       "285802    HANDS  423.0  NORTHEASTERN                   Hamilton Hills   \n",
       "285803      NaN  232.0  SOUTHEASTERN                           Canton   \n",
       "285804      NaN  721.0       WESTERN                   Evergreen Lawn   \n",
       "285805    HANDS  714.0       WESTERN  Penrose/Fayette Street Outreach   \n",
       "285806    HANDS  123.0       WESTERN                            Upton   \n",
       "\n",
       "        Total Incidents            DateTime  Latitude  Longitude  \n",
       "0                     1 2016-11-12 02:35:00  39.29241  -76.61408  \n",
       "1                     1 2016-11-12 02:56:00  39.28242  -76.59288  \n",
       "2                     1 2016-11-12 03:00:00  39.34805  -76.58834  \n",
       "3                     1 2016-11-12 03:00:00  39.36263  -76.55161  \n",
       "4                     1 2016-11-12 03:00:00  39.28938  -76.61971  \n",
       "...                 ...                 ...       ...        ...  \n",
       "285802                1 2011-01-01 22:15:00  39.37047  -76.56705  \n",
       "285803                1 2011-01-01 22:30:00  39.28046  -76.57273  \n",
       "285804                1 2011-01-01 23:00:00  39.29542  -76.65928  \n",
       "285805                1 2011-01-01 23:25:00  39.28999  -76.64707  \n",
       "285806                1 2011-01-01 23:38:00  39.29812  -76.63391  \n",
       "\n",
       "[284091 rows x 12 columns]"
      ]
     },
     "execution_count": 23,
     "metadata": {},
     "output_type": "execute_result"
    }
   ],
   "source": [
    "df"
   ]
  },
  {
   "cell_type": "code",
   "execution_count": 24,
   "metadata": {
    "colab": {
     "base_uri": "https://localhost:8080/"
    },
    "id": "Q1_JVZvXQJ-S",
    "outputId": "0b9aba0c-3e58-460b-e3e4-1ddd724bd39f"
   },
   "outputs": [
    {
     "data": {
      "text/plain": [
       "array([nan, 'FIREARM', 'HANDS', 'OTHER', 'KNIFE'], dtype=object)"
      ]
     },
     "execution_count": 24,
     "metadata": {},
     "output_type": "execute_result"
    }
   ],
   "source": [
    "df[\"Weapon\"].unique()\n"
   ]
  },
  {
   "cell_type": "code",
   "execution_count": 25,
   "metadata": {
    "colab": {
     "base_uri": "https://localhost:8080/"
    },
    "id": "6L7LlJaiXEis",
    "outputId": "c8599b38-cd1c-43ff-d6d0-7a35f63abc02"
   },
   "outputs": [
    {
     "name": "stdout",
     "output_type": "stream",
     "text": [
      "  CrimeCode            Location           Description Inside/Outside   Weapon  \\\n",
      "0        3B   300 SAINT PAUL PL      ROBBERY - STREET              O       NA   \n",
      "1       3CF      800 S BROADWAY  ROBBERY - COMMERCIAL              I  FIREARM   \n",
      "2        6D    1500 PENTWOOD RD     LARCENY FROM AUTO              O       NA   \n",
      "3        6D      6600 MILTON LN     LARCENY FROM AUTO              O       NA   \n",
      "4        6E  300 W BALTIMORE ST               LARCENY              O       NA   \n",
      "\n",
      "    Post      District                Neighborhood  Total Incidents  \\\n",
      "0  111.0       CENTRAL                    Downtown                1   \n",
      "1  213.0  SOUTHEASTERN                 Fells Point                1   \n",
      "2  413.0  NORTHEASTERN  Stonewood-Pentwood-Winston                1   \n",
      "3  424.0  NORTHEASTERN                   Westfield                1   \n",
      "4  111.0       CENTRAL                    Downtown                1   \n",
      "\n",
      "             DateTime  Latitude  Longitude  \n",
      "0 2016-11-12 02:35:00  39.29241  -76.61408  \n",
      "1 2016-11-12 02:56:00  39.28242  -76.59288  \n",
      "2 2016-11-12 03:00:00  39.34805  -76.58834  \n",
      "3 2016-11-12 03:00:00  39.36263  -76.55161  \n",
      "4 2016-11-12 03:00:00  39.28938  -76.61971  \n"
     ]
    }
   ],
   "source": [
    "# Replace blank values in 'Weapon' column with 'NA'\n",
    "df['Weapon'].fillna('NA', inplace=True)\n",
    "\n",
    "# Display DataFrame to confirm the changes\n",
    "print(df.head())\n"
   ]
  },
  {
   "cell_type": "code",
   "execution_count": 26,
   "metadata": {
    "colab": {
     "base_uri": "https://localhost:8080/"
    },
    "id": "SDvNZnigXNzS",
    "outputId": "29c7f2ca-a763-4875-c231-1b77ee03663e"
   },
   "outputs": [
    {
     "name": "stdout",
     "output_type": "stream",
     "text": [
      "<class 'pandas.core.frame.DataFrame'>\n",
      "Int64Index: 284091 entries, 0 to 285806\n",
      "Data columns (total 12 columns):\n",
      " #   Column           Non-Null Count   Dtype         \n",
      "---  ------           --------------   -----         \n",
      " 0   CrimeCode        284091 non-null  object        \n",
      " 1   Location         284091 non-null  object        \n",
      " 2   Description      284091 non-null  object        \n",
      " 3   Inside/Outside   284091 non-null  object        \n",
      " 4   Weapon           284091 non-null  object        \n",
      " 5   Post             284091 non-null  float64       \n",
      " 6   District         284091 non-null  object        \n",
      " 7   Neighborhood     284091 non-null  object        \n",
      " 8   Total Incidents  284091 non-null  int64         \n",
      " 9   DateTime         284091 non-null  datetime64[ns]\n",
      " 10  Latitude         284091 non-null  float64       \n",
      " 11  Longitude        284091 non-null  float64       \n",
      "dtypes: datetime64[ns](1), float64(3), int64(1), object(7)\n",
      "memory usage: 28.2+ MB\n"
     ]
    }
   ],
   "source": [
    "df.info()"
   ]
  },
  {
   "cell_type": "code",
   "execution_count": 27,
   "metadata": {
    "colab": {
     "base_uri": "https://localhost:8080/"
    },
    "id": "niOv_QiVXdD9",
    "outputId": "a919cd16-471d-4042-f318-bd7eb3888951"
   },
   "outputs": [
    {
     "name": "stdout",
     "output_type": "stream",
     "text": [
      "Total incidents recorded: 284091\n"
     ]
    }
   ],
   "source": [
    "#How many total incidents are recorded in the dataset?\n",
    "total_incidents = df['Total Incidents'].sum()\n",
    "print('Total incidents recorded:', total_incidents)\n"
   ]
  },
  {
   "cell_type": "code",
   "execution_count": 28,
   "metadata": {
    "colab": {
     "base_uri": "https://localhost:8080/"
    },
    "id": "O6I5rNlBOJIi",
    "outputId": "3ccb0031-bfa0-4aa4-f1b7-d63263ea4f3e"
   },
   "outputs": [
    {
     "name": "stdout",
     "output_type": "stream",
     "text": [
      "Earliest CrimeDate: 2011-01-01 00:00:00\n"
     ]
    }
   ],
   "source": [
    "#What is the earliest crimedate in the dataset?\n",
    "earliest_crimedate = df['DateTime'].min()\n",
    "print('Earliest CrimeDate:', earliest_crimedate)"
   ]
  },
  {
   "cell_type": "code",
   "execution_count": 29,
   "metadata": {
    "colab": {
     "base_uri": "https://localhost:8080/"
    },
    "id": "zwBg_wr3OYZn",
    "outputId": "e05ae594-4ee9-4376-85f7-8c8e39903041"
   },
   "outputs": [
    {
     "name": "stdout",
     "output_type": "stream",
     "text": [
      "Latest CrimeDate: 2016-11-12 23:54:00\n"
     ]
    }
   ],
   "source": [
    "#What is the latest crimedate in the dataset?\n",
    "latest_crimedate = df['DateTime'].max()\n",
    "print('Latest CrimeDate:', latest_crimedate)"
   ]
  },
  {
   "cell_type": "code",
   "execution_count": 30,
   "metadata": {
    "colab": {
     "base_uri": "https://localhost:8080/"
    },
    "id": "WQpB8byxOwGR",
    "outputId": "0b66e2b4-ff6d-43e5-d4fa-e1e0354fa3a9"
   },
   "outputs": [
    {
     "name": "stdout",
     "output_type": "stream",
     "text": [
      "Unique Crime Codes: ['3B' '3CF' '6D' '6E' '4E' '3CO' '3BJ' '5A' '4B' '7A' '3AF' '6G' '4F' '4C'\n",
      " '6B' '6C' '4D' '3D' '5B' '6J' '3AK' '3AO' '3AJK' '5D' '6F' '3AJF' '5C'\n",
      " '4A' '9S' '1F' '3JF' '3K' '3CK' '3P' '3JO' '3LF' '5E' '3AJO' '6A' '3NF'\n",
      " '6L' '3EK' '2A' '5F' '3H' '3GO' '3NO' '7C' '3NK' '2B' '8AV' '8AO' '8H'\n",
      " '1K' '8EO' '3JK' '3GF' '3EF' '3LO' '8GV' '3M' '8J' '8BV' '1O' '8BO' '6H'\n",
      " '8I' '3GK' '3F' '7B' '8FO' '3EO' '8CV' '8EV' '8GO' '3LK' '8CO' '6K' '8FV'\n",
      " '3N' '8DO']\n"
     ]
    }
   ],
   "source": [
    "#What are the unique crimecodes listed in the dataset?\n",
    "unique_crime_codes = df['CrimeCode'].unique()\n",
    "print('Unique Crime Codes:', unique_crime_codes)\n"
   ]
  },
  {
   "cell_type": "code",
   "execution_count": 31,
   "metadata": {
    "colab": {
     "base_uri": "https://localhost:8080/"
    },
    "id": "BEAYg2OrO_Ug",
    "outputId": "33cb560c-cd0e-491f-dd37-0df21b784d3b"
   },
   "outputs": [
    {
     "name": "stdout",
     "output_type": "stream",
     "text": [
      "Crime Code with the Highest Occurrence: 4E\n",
      "Count: 47579\n"
     ]
    }
   ],
   "source": [
    "#Which crimecode has the highest occurrence?\n",
    "crime_code_counts = df['CrimeCode'].value_counts()\n",
    "\n",
    "highest_occurrence_crimecode = crime_code_counts.idxmax()\n",
    "highest_occurrence_count = crime_code_counts.max()\n",
    "\n",
    "print('Crime Code with the Highest Occurrence:', highest_occurrence_crimecode)\n",
    "print('Count:', highest_occurrence_count)\n"
   ]
  },
  {
   "cell_type": "code",
   "execution_count": 32,
   "metadata": {
    "colab": {
     "base_uri": "https://localhost:8080/"
    },
    "id": "KOIKBv4XPzRk",
    "outputId": "eb8a252c-e4b2-4b53-8180-8172b6f3586d"
   },
   "outputs": [
    {
     "name": "stdout",
     "output_type": "stream",
     "text": [
      "Number of Incidents Involving Weapons: 284091\n"
     ]
    }
   ],
   "source": [
    "#How many incidents involved weapons?\n",
    "incidents_with_weapons = df['Weapon'].notnull().sum()\n",
    "print('Number of Incidents Involving Weapons:', incidents_with_weapons)\n"
   ]
  },
  {
   "cell_type": "code",
   "execution_count": 33,
   "metadata": {
    "colab": {
     "base_uri": "https://localhost:8080/"
    },
    "id": "0bqN6OBAPzVG",
    "outputId": "da35c19e-6f1a-4fdb-904e-28d486e71f00"
   },
   "outputs": [
    {
     "name": "stdout",
     "output_type": "stream",
     "text": [
      "Number of Crimes between 9:00 AM and 5:00 PM: 104853\n"
     ]
    }
   ],
   "source": [
    "#How many crimes occurred between 9:00 AM and 5:00 PM?\n",
    "import pandas as pd\n",
    "crimes_between_9am_and_5pm = df[(df['DateTime'].dt.hour >= 9) & (df['DateTime'].dt.hour < 17)]\n",
    "num_crimes_between_9am_and_5pm = len(crimes_between_9am_and_5pm)\n",
    "print('Number of Crimes between 9:00 AM and 5:00 PM:', num_crimes_between_9am_and_5pm)"
   ]
  },
  {
   "cell_type": "code",
   "execution_count": 34,
   "metadata": {
    "colab": {
     "base_uri": "https://localhost:8080/"
    },
    "id": "oXaGR8FmQYNj",
    "outputId": "b6f7e965-eb4c-46e5-a3bb-d8d5846b124a"
   },
   "outputs": [
    {
     "name": "stdout",
     "output_type": "stream",
     "text": [
      "Day of the Week with the Most Recorded Incidents: Friday\n",
      "Count: 43027\n"
     ]
    }
   ],
   "source": [
    "#What day of the week has the most recorded incidents?\n",
    "day_of_week_counts = df['DateTime'].dt.dayofweek.value_counts()\n",
    "\n",
    "day_names = ['Monday', 'Tuesday', 'Wednesday', 'Thursday', 'Friday', 'Saturday', 'Sunday']\n",
    "day_of_week_counts.index = day_of_week_counts.index.map(lambda x: day_names[x])\n",
    "\n",
    "most_recorded_day = day_of_week_counts.idxmax()\n",
    "most_recorded_day_count = day_of_week_counts.max()\n",
    "\n",
    "print('Day of the Week with the Most Recorded Incidents:', most_recorded_day)\n",
    "print('Count:', most_recorded_day_count)\n"
   ]
  },
  {
   "cell_type": "code",
   "execution_count": 35,
   "metadata": {
    "colab": {
     "base_uri": "https://localhost:8080/"
    },
    "id": "VWwpRSaZRhnD",
    "outputId": "d031aff6-9c44-4c23-8061-4ccfbee4522e"
   },
   "outputs": [
    {
     "name": "stdout",
     "output_type": "stream",
     "text": [
      "Season with the Least Incidents: Winter\n",
      "Number of Incidents in the Least Incident Season: 59341\n",
      "Season with the Most Incidents: Summer\n",
      "Number of Incidents in the Most Incident Season: 79083\n"
     ]
    }
   ],
   "source": [
    "#Which season (winter, summer, autumn, spring) had the least and most incidents.\n",
    "import pandas as pd\n",
    "\n",
    "def categorize_season(month):\n",
    "    if month in [12, 1, 2]:\n",
    "        return 'Winter'\n",
    "    elif month in [3, 4, 5]:\n",
    "        return 'Spring'\n",
    "    elif month in [6, 7, 8]:\n",
    "        return 'Summer'\n",
    "    else:\n",
    "        return 'Autumn'\n",
    "\n",
    "df['Month'] = df['DateTime'].dt.month\n",
    "df['Season'] = df['Month'].apply(categorize_season)\n",
    "season_counts = df['Season'].value_counts()\n",
    "\n",
    "least_incident_season = season_counts.idxmin()\n",
    "most_incident_season = season_counts.idxmax()\n",
    "\n",
    "print('Season with the Least Incidents:', least_incident_season)\n",
    "print('Number of Incidents in the Least Incident Season:', season_counts.min())\n",
    "print('Season with the Most Incidents:', most_incident_season)\n",
    "print('Number of Incidents in the Most Incident Season:', season_counts.max())\n"
   ]
  },
  {
   "cell_type": "code",
   "execution_count": 36,
   "metadata": {
    "colab": {
     "base_uri": "https://localhost:8080/",
     "height": 521
    },
    "id": "tzNwss4LSPDj",
    "outputId": "9e069109-f52f-4bd0-a18c-35ffaf5d4e63"
   },
   "outputs": [
    {
     "data": {
      "image/png": "[encoded data removed]",
      "text/plain": [
       "<Figure size 864x432 with 1 Axes>"
      ]
     },
     "metadata": {
      "needs_background": "light"
     },
     "output_type": "display_data"
    }
   ],
   "source": [
    "#Are there specific crimetimes that have a higher frequency of incidents?\n",
    "import matplotlib.pyplot as plt\n",
    "\n",
    "# Extract the hour from the 'DateTime' column\n",
    "df['Hour'] = df['DateTime'].dt.hour\n",
    "\n",
    "# Count the number of incidents for each hour\n",
    "incident_counts_by_hour = df['Hour'].value_counts().sort_index()\n",
    "\n",
    "# Plotting the incident counts by hour\n",
    "plt.figure(figsize=(12, 6))\n",
    "incident_counts_by_hour.plot(kind='bar', color='skyblue')\n",
    "plt.xlabel('Hour of the Day')\n",
    "plt.ylabel('Number of Incidents')\n",
    "plt.title('Incident Frequency by Hour of the Day')\n",
    "plt.xticks(rotation=0)\n",
    "plt.grid(axis='y')\n",
    "\n",
    "plt.show()\n"
   ]
  },
  {
   "cell_type": "code",
   "execution_count": 37,
   "metadata": {
    "colab": {
     "base_uri": "https://localhost:8080/",
     "height": 526
    },
    "id": "lP85DfJNSyst",
    "outputId": "4e3688a2-fcd8-463e-fe34-8f6079d8d71c"
   },
   "outputs": [
    {
     "data": {
      "image/png": "[encoded data removed]",
      "text/plain": [
       "<Figure size 864x432 with 1 Axes>"
      ]
     },
     "metadata": {
      "needs_background": "light"
     },
     "output_type": "display_data"
    }
   ],
   "source": [
    "import matplotlib.pyplot as plt\n",
    "\n",
    "# Filter the dataset for \"Inside\" crimes\n",
    "inside_crimes_df = df[df['Inside/Outside'] == 'I'].copy()\n",
    "\n",
    "# Convert 'DateTime' to datetime if it's not already\n",
    "inside_crimes_df['DateTime'] = pd.to_datetime(inside_crimes_df['DateTime'])\n",
    "\n",
    "# Extract the hour from the 'DateTime' column\n",
    "inside_crimes_df['Hour'] = inside_crimes_df['DateTime'].dt.hour\n",
    "\n",
    "# Count the number of inside crimes for each hour\n",
    "inside_crime_counts_by_hour = inside_crimes_df['Hour'].value_counts().sort_index()\n",
    "\n",
    "# Plotting the inside crime counts by hour\n",
    "plt.figure(figsize=(12, 6))\n",
    "inside_crime_counts_by_hour.plot(kind='bar', color='skyblue')\n",
    "plt.xlabel('Hour of the Day')\n",
    "plt.ylabel('Number of Inside Crimes')\n",
    "plt.title('Inside Crime Frequency by Hour of the Day')\n",
    "plt.xticks(rotation=0)\n",
    "plt.grid(axis='y')\n",
    "\n",
    "plt.show()\n",
    "\n"
   ]
  },
  {
   "cell_type": "code",
   "execution_count": 38,
   "metadata": {
    "colab": {
     "base_uri": "https://localhost:8080/"
    },
    "id": "oBEshAxHUGXP",
    "outputId": "63f4c34a-49fb-4fc8-fab3-57dba7d3ff17"
   },
   "outputs": [
    {
     "name": "stdout",
     "output_type": "stream",
     "text": [
      "Top 5 Locations where Crimes Occurred:\n",
      "200 E PRATT ST     676\n",
      "300 LIGHT ST       603\n",
      "1500 RUSSELL ST    439\n",
      "3200 TIOGA PW      438\n",
      "1200 W PRATT ST    387\n",
      "Name: Location, dtype: int64\n"
     ]
    }
   ],
   "source": [
    "#What are the top 5 locations where crimes occurred?\n",
    "# Count the number of incidents for each location\n",
    "location_counts = df['Location'].value_counts()\n",
    "\n",
    "# Get the top 5 locations\n",
    "top5_locations = location_counts.head(5)\n",
    "\n",
    "print('Top 5 Locations where Crimes Occurred:')\n",
    "print(top5_locations)\n"
   ]
  },
  {
   "cell_type": "code",
   "execution_count": 39,
   "metadata": {
    "colab": {
     "base_uri": "https://localhost:8080/"
    },
    "id": "FkEg773SUGoR",
    "outputId": "f0846359-1ea0-4202-9bdd-b1976514c8aa"
   },
   "outputs": [
    {
     "name": "stdout",
     "output_type": "stream",
     "text": [
      "District with the Highest Number of Incidents: NORTHEASTERN\n",
      "Number of Incidents in the Highest Incident District: 44831\n"
     ]
    }
   ],
   "source": [
    "#Which district has the highest number of incidents?\n",
    "district_counts = df['District'].value_counts()\n",
    "\n",
    "highest_incident_district = district_counts.idxmax()\n",
    "highest_incident_count = district_counts.max()\n",
    "\n",
    "print('District with the Highest Number of Incidents:', highest_incident_district)\n",
    "print('Number of Incidents in the Highest Incident District:', highest_incident_count)\n"
   ]
  },
  {
   "cell_type": "code",
   "execution_count": 40,
   "metadata": {
    "colab": {
     "base_uri": "https://localhost:8080/",
     "height": 616
    },
    "id": "JhtHhFcsUGvr",
    "outputId": "3ee03241-1ad3-48ce-8da1-667c3f467da7"
   },
   "outputs": [
    {
     "data": {
      "image/png": "[encoded data removed]",
      "text/plain": [
       "<Figure size 864x432 with 1 Axes>"
      ]
     },
     "metadata": {
      "needs_background": "light"
     },
     "output_type": "display_data"
    }
   ],
   "source": [
    "#Are there any neighborhoods that appear to be particularly safe or particularly at-risk?\n",
    "import matplotlib.pyplot as plt\n",
    "\n",
    "neighborhood_counts = df['Neighborhood'].value_counts()\n",
    "\n",
    "sorted_neighborhoods = neighborhood_counts.sort_values(ascending=False)\n",
    "\n",
    "plt.figure(figsize=(12, 6))\n",
    "sorted_neighborhoods.head(10).plot(kind='bar', color='skyblue')\n",
    "plt.xlabel('Neighborhood')\n",
    "plt.ylabel('Number of Incidents')\n",
    "plt.title('Top 10 Neighborhoods with the Most Incidents')\n",
    "plt.xticks(rotation=45)\n",
    "plt.grid(axis='y')\n",
    "\n",
    "plt.show()\n"
   ]
  },
  {
   "cell_type": "code",
   "execution_count": 41,
   "metadata": {
    "colab": {
     "base_uri": "https://localhost:8080/"
    },
    "id": "iKY2AK3AU9KU",
    "outputId": "3a474163-5047-44fa-ed4a-422ebd20383e"
   },
   "outputs": [
    {
     "name": "stdout",
     "output_type": "stream",
     "text": [
      "Top 5 Most Common Crime Descriptions:\n",
      "LARCENY              62251\n",
      "COMMON ASSAULT       47579\n",
      "BURGLARY             44798\n",
      "LARCENY FROM AUTO    38640\n",
      "AGG. ASSAULT         27876\n",
      "Name: Description, dtype: int64\n"
     ]
    }
   ],
   "source": [
    "#What are the most common descriptions for crimes in the dataset?\n",
    "description_counts = df['Description'].value_counts()\n",
    "\n",
    "top5_descriptions = description_counts.head(5)\n",
    "\n",
    "print('Top 5 Most Common Crime Descriptions:')\n",
    "print(top5_descriptions)\n"
   ]
  },
  {
   "cell_type": "code",
   "execution_count": 42,
   "metadata": {
    "colab": {
     "base_uri": "https://localhost:8080/"
    },
    "id": "yOuzGG0dUGzF",
    "outputId": "6e5de391-be0b-4cd4-ad96-bc6a574953a4"
   },
   "outputs": [
    {
     "name": "stdout",
     "output_type": "stream",
     "text": [
      "Proportion of Crimes that Occurred Inside: 0.5143351954127374\n",
      "Proportion of Crimes that Occurred Outside: 0.4856648045872625\n"
     ]
    }
   ],
   "source": [
    "#How often did crimes occur inside versus outside.\n",
    "inside_outside_counts = df['Inside/Outside'].value_counts()\n",
    "\n",
    "total_incidents = len(df)\n",
    "inside_proportion = inside_outside_counts['I'] / total_incidents\n",
    "outside_proportion = inside_outside_counts['O'] / total_incidents\n",
    "\n",
    "print('Proportion of Crimes that Occurred Inside:', inside_proportion)\n",
    "print('Proportion of Crimes that Occurred Outside:', outside_proportion)\n"
   ]
  },
  {
   "cell_type": "code",
   "execution_count": 43,
   "metadata": {
    "colab": {
     "base_uri": "https://localhost:8080/"
    },
    "id": "rQt9HMb3VZO9",
    "outputId": "4d31d2b2-f945-469b-b656-430d41579425"
   },
   "outputs": [
    {
     "name": "stdout",
     "output_type": "stream",
     "text": [
      "Percentage of Crimes that Occurred Inside: 51.43%\n",
      "Percentage of Crimes that Occurred Outside: 48.57%\n"
     ]
    }
   ],
   "source": [
    "inside_percentage = inside_proportion * 100\n",
    "outside_percentage = outside_proportion * 100\n",
    "\n",
    "print('Percentage of Crimes that Occurred Inside: {:.2f}%'.format(inside_percentage))\n",
    "print('Percentage of Crimes that Occurred Outside: {:.2f}%'.format(outside_percentage))\n"
   ]
  },
  {
   "cell_type": "code",
   "execution_count": 44,
   "metadata": {
    "colab": {
     "base_uri": "https://localhost:8080/"
    },
    "id": "7Tu9y-kuVbSH",
    "outputId": "32a7c43c-ce84-40e1-f908-0fa151ba4713"
   },
   "outputs": [
    {
     "name": "stdout",
     "output_type": "stream",
     "text": [
      "Top 5 Most Common Weapon Types in Crimes:\n",
      "NA         187158\n",
      "HANDS       51376\n",
      "FIREARM     21112\n",
      "OTHER       14475\n",
      "KNIFE        9970\n",
      "Name: Weapon, dtype: int64\n"
     ]
    }
   ],
   "source": [
    "#What types of weapons are most commonly used in crimes?\n",
    "weapon_counts = df['Weapon'].value_counts()\n",
    "\n",
    "top5_weapons = weapon_counts.head(5)\n",
    "\n",
    "print('Top 5 Most Common Weapon Types in Crimes:')\n",
    "print(top5_weapons)\n"
   ]
  },
  {
   "cell_type": "code",
   "execution_count": 45,
   "metadata": {
    "colab": {
     "base_uri": "https://localhost:8080/"
    },
    "id": "xidS2Ei_Vlyj",
    "outputId": "10dbc4bc-d8fd-45c0-9bf2-6872419ad25c"
   },
   "outputs": [
    {
     "name": "stdout",
     "output_type": "stream",
     "text": [
      "Top 5 Police Posts with the Most Incidents:\n",
      "111.0    9760\n",
      "212.0    4968\n",
      "922.0    4640\n",
      "211.0    4492\n",
      "913.0    4458\n",
      "Name: Post, dtype: int64\n"
     ]
    }
   ],
   "source": [
    "#Are there specific police posts that have a higher number of incidents reported?\n",
    "post_counts = df['Post'].value_counts()\n",
    "\n",
    "# Get the top 5 police posts with the most incidents\n",
    "top5_posts = post_counts.head(5)\n",
    "\n",
    "print('Top 5 Police Posts with the Most Incidents:')\n",
    "print(top5_posts)\n"
   ]
  },
  {
   "cell_type": "code",
   "execution_count": 46,
   "metadata": {
    "colab": {
     "base_uri": "https://localhost:8080/"
    },
    "id": "Ssxeu4RoV5jk",
    "outputId": "49facddd-a035-4151-cd8a-fa9709cf6a57"
   },
   "outputs": [
    {
     "name": "stdout",
     "output_type": "stream",
     "text": [
      "Proportion of Incidents Involving Weapons - Inside: 0.5143351954127374\n",
      "Proportion of Incidents Involving Weapons - Outside: 0.4856648045872625\n"
     ]
    }
   ],
   "source": [
    "# Calculate the proportion of incidents involving weapons for 'Inside' and 'Outside'\n",
    "total_incidents_with_weapons = len(df[df['Weapon'].notnull()])  # Total incidents involving weapons\n",
    "inside_incidents_with_weapons = len(df[(df['Inside/Outside'] == 'I') & (df['Weapon'].notnull())])\n",
    "outside_incidents_with_weapons = len(df[(df['Inside/Outside'] == 'O') & (df['Weapon'].notnull())])\n",
    "\n",
    "# Calculate proportions\n",
    "inside_proportion_weapons = inside_incidents_with_weapons / total_incidents_with_weapons\n",
    "outside_proportion_weapons = outside_incidents_with_weapons / total_incidents_with_weapons\n",
    "\n",
    "print('Proportion of Incidents Involving Weapons - Inside:', inside_proportion_weapons)\n",
    "print('Proportion of Incidents Involving Weapons - Outside:', outside_proportion_weapons)\n"
   ]
  },
  {
   "cell_type": "code",
   "execution_count": 47,
   "metadata": {
    "colab": {
     "base_uri": "https://localhost:8080/"
    },
    "id": "i5LqvkR0WJxy",
    "outputId": "1daae4ea-21b7-483d-a450-5f9d641bae87"
   },
   "outputs": [
    {
     "name": "stdout",
     "output_type": "stream",
     "text": [
      "District and Neighborhood with the Most Violent Crimes:\n",
      "District: CENTRAL\n",
      "Neighborhood: Downtown\n",
      "Number of Incidents: 3901\n"
     ]
    }
   ],
   "source": [
    "# Define a list of violent crime descriptions\n",
    "violent_crime_descriptions = [\n",
    "    'AGG. ASSAULT',\n",
    "    'COMMON ASSAULT',\n",
    "    'ROBBERY - CARJACKING',\n",
    "    'ROBBERY - COMMERCIAL',\n",
    "    'ROBBERY - STREET'\n",
    "]\n",
    "\n",
    "# Filter the dataset for incidents with violent crime descriptions\n",
    "violent_crimes_df = df[df['Description'].isin(violent_crime_descriptions)]\n",
    "\n",
    "# Group by district and neighborhood and count the number of incidents\n",
    "violent_crime_counts = violent_crimes_df.groupby(['District', 'Neighborhood']).size().reset_index(name='IncidentCount')\n",
    "\n",
    "# Find the district and neighborhood with the most violent crimes\n",
    "most_violent_district_neighborhood = violent_crime_counts.loc[violent_crime_counts['IncidentCount'].idxmax()]\n",
    "\n",
    "print('District and Neighborhood with the Most Violent Crimes:')\n",
    "print('District:', most_violent_district_neighborhood['District'])\n",
    "print('Neighborhood:', most_violent_district_neighborhood['Neighborhood'])\n",
    "print('Number of Incidents:', most_violent_district_neighborhood['IncidentCount'])\n"
   ]
  },
  {
   "cell_type": "code",
   "execution_count": 48,
   "metadata": {
    "colab": {
     "base_uri": "https://localhost:8080/",
     "height": 504
    },
    "id": "Firj41FKEf6Y",
    "outputId": "67461cea-0a4d-4f1c-959e-ce2cbbed0446"
   },
   "outputs": [
    {
     "data": {
      "text/plain": [
       "<Figure size 864x576 with 0 Axes>"
      ]
     },
     "metadata": {},
     "output_type": "display_data"
    },
    {
     "data": {
      "image/png": "[encoded data removed]",
      "text/plain": [
       "<Figure size 432x288 with 1 Axes>"
      ]
     },
     "metadata": {
      "needs_background": "light"
     },
     "output_type": "display_data"
    }
   ],
   "source": [
    "import matplotlib.pyplot as plt\n",
    "\n",
    "# Define the seasons based on months\n",
    "seasons = {\n",
    "    12: 'Winter', 1: 'Winter', 2: 'Winter',\n",
    "    3: 'Spring', 4: 'Spring', 5: 'Spring',\n",
    "    6: 'Summer', 7: 'Summer', 8: 'Summer',\n",
    "    9: 'Autumn', 10: 'Autumn', 11: 'Autumn'\n",
    "}\n",
    "\n",
    "# Extract the month from the 'CrimeDate'\n",
    "df['Month'] = df['DateTime'].dt.month\n",
    "\n",
    "# Map the month to the corresponding season\n",
    "df['Season'] = df['Month'].map(seasons)\n",
    "\n",
    "# Count the number of incidents for each season and type of crime\n",
    "seasonal_crime_counts = df.groupby(['Season', 'Description']).size().unstack(fill_value=0)\n",
    "\n",
    "# Plotting the seasonal crime counts\n",
    "plt.figure(figsize=(12, 8))\n",
    "seasonal_crime_counts.plot(kind='bar', stacked=True)\n",
    "plt.xlabel('Season')\n",
    "plt.ylabel('Number of Incidents')\n",
    "plt.title('Seasonal Trend in Types of Crimes')\n",
    "plt.xticks(rotation=45)\n",
    "plt.legend(title='Description', bbox_to_anchor=(1.05, 1), loc='upper left')\n",
    "plt.tight_layout()\n",
    "\n",
    "plt.show()"
   ]
  },
  {
   "cell_type": "code",
   "execution_count": 60,
   "metadata": {
    "colab": {
     "base_uri": "https://localhost:8080/",
     "height": 390
    },
    "id": "raf7tlZaEi22",
    "outputId": "4e400f6f-fde1-4eb6-fb3d-839f9f680fb7"
   },
   "outputs": [
    {
     "data": {
      "image/png": "[encoded data removed]",
      "text/plain": [
       "<Figure size 864x432 with 1 Axes>"
      ]
     },
     "metadata": {
      "needs_background": "light"
     },
     "output_type": "display_data"
    },
    {
     "data": {
      "image/png": "[encoded data removed]",
      "text/plain": [
       "<Figure size 864x432 with 1 Axes>"
      ]
     },
     "metadata": {
      "needs_background": "light"
     },
     "output_type": "display_data"
    }
   ],
   "source": [
    "import pandas as pd\n",
    "import matplotlib.pyplot as plt\n",
    "\n",
    "\n",
    "# For monthly data\n",
    "monthly_crime_counts = crime_data.resample('M').count()\n",
    "\n",
    "# For quarterly data\n",
    "quarterly_crime_counts = crime_data.resample('Q').count()\n",
    "\n",
    "# Create the seasonal plots\n",
    "plt.figure(figsize=(12, 6))\n",
    "plt.plot(monthly_crime_counts.index, monthly_crime_counts['CrimeCode'])\n",
    "plt.title('Monthly Crime Trends')\n",
    "plt.xlabel('DateTime')\n",
    "plt.ylabel('Number of Crimes')\n",
    "plt.grid(True)\n",
    "plt.show()\n",
    "\n",
    "plt.figure(figsize=(12, 6))\n",
    "plt.plot(quarterly_crime_counts.index, quarterly_crime_counts['CrimeCode'])\n",
    "plt.title('Quarterly Crime Trends')\n",
    "plt.xlabel('DateTime')\n",
    "plt.ylabel('Number of Crimes')\n",
    "plt.grid(True)\n",
    "plt.show()\n"
   ]
  }
 ],
 "metadata": {
  "colab": {
   "provenance": [],
   "toc_visible": true
  },
  "kernelspec": {
   "display_name": "Python 3",
   "language": "python",
   "name": "python3"
  },
  "language_info": {
   "codemirror_mode": {
    "name": "ipython",
    "version": 3
   },
   "file_extension": ".py",
   "mimetype": "text/x-python",
   "name": "python",
   "nbconvert_exporter": "python",
   "pygments_lexer": "ipython3",
   "version": "3.8.8"
  }
 },
 "nbformat": 4,
 "nbformat_minor": 1
}
